{
 "cells": [
  {
   "cell_type": "code",
   "execution_count": 1,
   "id": "00499a37",
   "metadata": {
    "execution": {
     "iopub.execute_input": "2023-07-07T04:31:36.008966Z",
     "iopub.status.busy": "2023-07-07T04:31:36.008515Z",
     "iopub.status.idle": "2023-07-07T04:31:37.493693Z",
     "shell.execute_reply": "2023-07-07T04:31:37.492622Z"
    },
    "papermill": {
     "duration": 1.499177,
     "end_time": "2023-07-07T04:31:37.496530",
     "exception": false,
     "start_time": "2023-07-07T04:31:35.997353",
     "status": "completed"
    },
    "tags": []
   },
   "outputs": [],
   "source": [
    "import numpy as np\n",
    "import pandas as pd\n",
    "import matplotlib.pyplot as plt\n",
    "%matplotlib inline\n",
    "import seaborn as sns\n"
   ]
  },
  {
   "cell_type": "code",
   "execution_count": 2,
   "id": "6824daae",
   "metadata": {
    "execution": {
     "iopub.execute_input": "2023-07-07T04:31:37.510492Z",
     "iopub.status.busy": "2023-07-07T04:31:37.510103Z",
     "iopub.status.idle": "2023-07-07T04:31:44.237545Z",
     "shell.execute_reply": "2023-07-07T04:31:44.236435Z"
    },
    "papermill": {
     "duration": 6.737777,
     "end_time": "2023-07-07T04:31:44.240558",
     "exception": false,
     "start_time": "2023-07-07T04:31:37.502781",
     "status": "completed"
    },
    "tags": []
   },
   "outputs": [
    {
     "data": {
      "text/html": [
       "<div>\n",
       "<style scoped>\n",
       "    .dataframe tbody tr th:only-of-type {\n",
       "        vertical-align: middle;\n",
       "    }\n",
       "\n",
       "    .dataframe tbody tr th {\n",
       "        vertical-align: top;\n",
       "    }\n",
       "\n",
       "    .dataframe thead th {\n",
       "        text-align: right;\n",
       "    }\n",
       "</style>\n",
       "<table border=\"1\" class=\"dataframe\">\n",
       "  <thead>\n",
       "    <tr style=\"text-align: right;\">\n",
       "      <th></th>\n",
       "      <th>label</th>\n",
       "      <th>pixel0</th>\n",
       "      <th>pixel1</th>\n",
       "      <th>pixel2</th>\n",
       "      <th>pixel3</th>\n",
       "      <th>pixel4</th>\n",
       "      <th>pixel5</th>\n",
       "      <th>pixel6</th>\n",
       "      <th>pixel7</th>\n",
       "      <th>pixel8</th>\n",
       "      <th>...</th>\n",
       "      <th>pixel774</th>\n",
       "      <th>pixel775</th>\n",
       "      <th>pixel776</th>\n",
       "      <th>pixel777</th>\n",
       "      <th>pixel778</th>\n",
       "      <th>pixel779</th>\n",
       "      <th>pixel780</th>\n",
       "      <th>pixel781</th>\n",
       "      <th>pixel782</th>\n",
       "      <th>pixel783</th>\n",
       "    </tr>\n",
       "  </thead>\n",
       "  <tbody>\n",
       "    <tr>\n",
       "      <th>0</th>\n",
       "      <td>1</td>\n",
       "      <td>0</td>\n",
       "      <td>0</td>\n",
       "      <td>0</td>\n",
       "      <td>0</td>\n",
       "      <td>0</td>\n",
       "      <td>0</td>\n",
       "      <td>0</td>\n",
       "      <td>0</td>\n",
       "      <td>0</td>\n",
       "      <td>...</td>\n",
       "      <td>0</td>\n",
       "      <td>0</td>\n",
       "      <td>0</td>\n",
       "      <td>0</td>\n",
       "      <td>0</td>\n",
       "      <td>0</td>\n",
       "      <td>0</td>\n",
       "      <td>0</td>\n",
       "      <td>0</td>\n",
       "      <td>0</td>\n",
       "    </tr>\n",
       "    <tr>\n",
       "      <th>1</th>\n",
       "      <td>0</td>\n",
       "      <td>0</td>\n",
       "      <td>0</td>\n",
       "      <td>0</td>\n",
       "      <td>0</td>\n",
       "      <td>0</td>\n",
       "      <td>0</td>\n",
       "      <td>0</td>\n",
       "      <td>0</td>\n",
       "      <td>0</td>\n",
       "      <td>...</td>\n",
       "      <td>0</td>\n",
       "      <td>0</td>\n",
       "      <td>0</td>\n",
       "      <td>0</td>\n",
       "      <td>0</td>\n",
       "      <td>0</td>\n",
       "      <td>0</td>\n",
       "      <td>0</td>\n",
       "      <td>0</td>\n",
       "      <td>0</td>\n",
       "    </tr>\n",
       "    <tr>\n",
       "      <th>2</th>\n",
       "      <td>1</td>\n",
       "      <td>0</td>\n",
       "      <td>0</td>\n",
       "      <td>0</td>\n",
       "      <td>0</td>\n",
       "      <td>0</td>\n",
       "      <td>0</td>\n",
       "      <td>0</td>\n",
       "      <td>0</td>\n",
       "      <td>0</td>\n",
       "      <td>...</td>\n",
       "      <td>0</td>\n",
       "      <td>0</td>\n",
       "      <td>0</td>\n",
       "      <td>0</td>\n",
       "      <td>0</td>\n",
       "      <td>0</td>\n",
       "      <td>0</td>\n",
       "      <td>0</td>\n",
       "      <td>0</td>\n",
       "      <td>0</td>\n",
       "    </tr>\n",
       "    <tr>\n",
       "      <th>3</th>\n",
       "      <td>4</td>\n",
       "      <td>0</td>\n",
       "      <td>0</td>\n",
       "      <td>0</td>\n",
       "      <td>0</td>\n",
       "      <td>0</td>\n",
       "      <td>0</td>\n",
       "      <td>0</td>\n",
       "      <td>0</td>\n",
       "      <td>0</td>\n",
       "      <td>...</td>\n",
       "      <td>0</td>\n",
       "      <td>0</td>\n",
       "      <td>0</td>\n",
       "      <td>0</td>\n",
       "      <td>0</td>\n",
       "      <td>0</td>\n",
       "      <td>0</td>\n",
       "      <td>0</td>\n",
       "      <td>0</td>\n",
       "      <td>0</td>\n",
       "    </tr>\n",
       "    <tr>\n",
       "      <th>4</th>\n",
       "      <td>0</td>\n",
       "      <td>0</td>\n",
       "      <td>0</td>\n",
       "      <td>0</td>\n",
       "      <td>0</td>\n",
       "      <td>0</td>\n",
       "      <td>0</td>\n",
       "      <td>0</td>\n",
       "      <td>0</td>\n",
       "      <td>0</td>\n",
       "      <td>...</td>\n",
       "      <td>0</td>\n",
       "      <td>0</td>\n",
       "      <td>0</td>\n",
       "      <td>0</td>\n",
       "      <td>0</td>\n",
       "      <td>0</td>\n",
       "      <td>0</td>\n",
       "      <td>0</td>\n",
       "      <td>0</td>\n",
       "      <td>0</td>\n",
       "    </tr>\n",
       "  </tbody>\n",
       "</table>\n",
       "<p>5 rows × 785 columns</p>\n",
       "</div>"
      ],
      "text/plain": [
       "   label  pixel0  pixel1  pixel2  pixel3  pixel4  pixel5  pixel6  pixel7  \\\n",
       "0      1       0       0       0       0       0       0       0       0   \n",
       "1      0       0       0       0       0       0       0       0       0   \n",
       "2      1       0       0       0       0       0       0       0       0   \n",
       "3      4       0       0       0       0       0       0       0       0   \n",
       "4      0       0       0       0       0       0       0       0       0   \n",
       "\n",
       "   pixel8  ...  pixel774  pixel775  pixel776  pixel777  pixel778  pixel779  \\\n",
       "0       0  ...         0         0         0         0         0         0   \n",
       "1       0  ...         0         0         0         0         0         0   \n",
       "2       0  ...         0         0         0         0         0         0   \n",
       "3       0  ...         0         0         0         0         0         0   \n",
       "4       0  ...         0         0         0         0         0         0   \n",
       "\n",
       "   pixel780  pixel781  pixel782  pixel783  \n",
       "0         0         0         0         0  \n",
       "1         0         0         0         0  \n",
       "2         0         0         0         0  \n",
       "3         0         0         0         0  \n",
       "4         0         0         0         0  \n",
       "\n",
       "[5 rows x 785 columns]"
      ]
     },
     "execution_count": 2,
     "metadata": {},
     "output_type": "execute_result"
    }
   ],
   "source": [
    "train = pd.read_csv(\"/kaggle/input/digit-recognizer/train.csv\")\n",
    "test = pd.read_csv(\"/kaggle/input/digit-recognizer/test.csv\")\n",
    "train.head()"
   ]
  },
  {
   "cell_type": "code",
   "execution_count": 3,
   "id": "8ad4ff7d",
   "metadata": {
    "execution": {
     "iopub.execute_input": "2023-07-07T04:31:44.255088Z",
     "iopub.status.busy": "2023-07-07T04:31:44.254700Z",
     "iopub.status.idle": "2023-07-07T04:31:44.485044Z",
     "shell.execute_reply": "2023-07-07T04:31:44.483788Z"
    },
    "papermill": {
     "duration": 0.240471,
     "end_time": "2023-07-07T04:31:44.487511",
     "exception": false,
     "start_time": "2023-07-07T04:31:44.247040",
     "status": "completed"
    },
    "tags": []
   },
   "outputs": [
    {
     "data": {
      "text/plain": [
       "((42000, 784), (42000,), (28000, 784))"
      ]
     },
     "execution_count": 3,
     "metadata": {},
     "output_type": "execute_result"
    }
   ],
   "source": [
    "y_train = train['label'].astype('float32')\n",
    "X_train = train.drop(['label'], axis=1).astype('int32')\n",
    "X_test = test.astype('float32')\n",
    "X_train.shape, y_train.shape, X_test.shape"
   ]
  },
  {
   "cell_type": "code",
   "execution_count": 4,
   "id": "434b1108",
   "metadata": {
    "execution": {
     "iopub.execute_input": "2023-07-07T04:31:44.502105Z",
     "iopub.status.busy": "2023-07-07T04:31:44.501731Z",
     "iopub.status.idle": "2023-07-07T04:31:44.771886Z",
     "shell.execute_reply": "2023-07-07T04:31:44.771059Z"
    },
    "papermill": {
     "duration": 0.280142,
     "end_time": "2023-07-07T04:31:44.774078",
     "exception": false,
     "start_time": "2023-07-07T04:31:44.493936",
     "status": "completed"
    },
    "tags": []
   },
   "outputs": [
    {
     "data": {
      "image/png": "[encoded data removed]",
      "text/plain": [
       "<Figure size 640x480 with 1 Axes>"
      ]
     },
     "metadata": {},
     "output_type": "display_data"
    }
   ],
   "source": [
    "sns.countplot(x='label', data=train);"
   ]
  },
  {
   "cell_type": "code",
   "execution_count": 5,
   "id": "8bed4344",
   "metadata": {
    "execution": {
     "iopub.execute_input": "2023-07-07T04:31:44.790067Z",
     "iopub.status.busy": "2023-07-07T04:31:44.789055Z",
     "iopub.status.idle": "2023-07-07T04:31:44.894109Z",
     "shell.execute_reply": "2023-07-07T04:31:44.892924Z"
    },
    "papermill": {
     "duration": 0.115719,
     "end_time": "2023-07-07T04:31:44.896800",
     "exception": false,
     "start_time": "2023-07-07T04:31:44.781081",
     "status": "completed"
    },
    "tags": []
   },
   "outputs": [],
   "source": [
    "# Data normalization\n",
    "X_train = X_train/255\n",
    "X_test = X_test/255"
   ]
  },
  {
   "cell_type": "code",
   "execution_count": 6,
   "id": "8051874d",
   "metadata": {
    "execution": {
     "iopub.execute_input": "2023-07-07T04:31:44.912855Z",
     "iopub.status.busy": "2023-07-07T04:31:44.911832Z",
     "iopub.status.idle": "2023-07-07T04:31:44.919446Z",
     "shell.execute_reply": "2023-07-07T04:31:44.918621Z"
    },
    "papermill": {
     "duration": 0.018072,
     "end_time": "2023-07-07T04:31:44.921783",
     "exception": false,
     "start_time": "2023-07-07T04:31:44.903711",
     "status": "completed"
    },
    "tags": []
   },
   "outputs": [
    {
     "data": {
      "text/plain": [
       "((42000, 28, 28, 1), (28000, 28, 28, 1))"
      ]
     },
     "execution_count": 6,
     "metadata": {},
     "output_type": "execute_result"
    }
   ],
   "source": [
    "X_train = X_train.values.reshape(-1,28,28,1)\n",
    "X_test = X_test.values.reshape(-1,28,28,1)\n",
    "X_train.shape, X_test.shape"
   ]
  },
  {
   "cell_type": "code",
   "execution_count": 7,
   "id": "c8c3c912",
   "metadata": {
    "execution": {
     "iopub.execute_input": "2023-07-07T04:31:44.939490Z",
     "iopub.status.busy": "2023-07-07T04:31:44.938791Z",
     "iopub.status.idle": "2023-07-07T04:31:53.035931Z",
     "shell.execute_reply": "2023-07-07T04:31:53.034759Z"
    },
    "papermill": {
     "duration": 8.108087,
     "end_time": "2023-07-07T04:31:53.038529",
     "exception": false,
     "start_time": "2023-07-07T04:31:44.930442",
     "status": "completed"
    },
    "tags": []
   },
   "outputs": [
    {
     "name": "stderr",
     "output_type": "stream",
     "text": [
      "/opt/conda/lib/python3.10/site-packages/tensorflow_io/python/ops/__init__.py:98: UserWarning: unable to load libtensorflow_io_plugins.so: unable to open file: libtensorflow_io_plugins.so, from paths: ['/opt/conda/lib/python3.10/site-packages/tensorflow_io/python/ops/libtensorflow_io_plugins.so']\n",
      "caused by: ['/opt/conda/lib/python3.10/site-packages/tensorflow_io/python/ops/libtensorflow_io_plugins.so: undefined symbol: _ZN3tsl6StatusC1EN10tensorflow5error4CodeESt17basic_string_viewIcSt11char_traitsIcEENS_14SourceLocationE']\n",
      "  warnings.warn(f\"unable to load libtensorflow_io_plugins.so: {e}\")\n",
      "/opt/conda/lib/python3.10/site-packages/tensorflow_io/python/ops/__init__.py:104: UserWarning: file system plugins are not loaded: unable to open file: libtensorflow_io.so, from paths: ['/opt/conda/lib/python3.10/site-packages/tensorflow_io/python/ops/libtensorflow_io.so']\n",
      "caused by: ['/opt/conda/lib/python3.10/site-packages/tensorflow_io/python/ops/libtensorflow_io.so: undefined symbol: _ZTVN10tensorflow13GcsFileSystemE']\n",
      "  warnings.warn(f\"file system plugins are not loaded: {e}\")\n"
     ]
    },
    {
     "data": {
      "text/plain": [
       "(42000, 10)"
      ]
     },
     "execution_count": 7,
     "metadata": {},
     "output_type": "execute_result"
    }
   ],
   "source": [
    "# one-hot encoding\n",
    "from keras.utils.np_utils import to_categorical\n",
    "y_train = to_categorical(y_train, num_classes = 10)\n",
    "y_train.shape"
   ]
  },
  {
   "cell_type": "code",
   "execution_count": 8,
   "id": "0ec8b0b4",
   "metadata": {
    "execution": {
     "iopub.execute_input": "2023-07-07T04:31:53.055661Z",
     "iopub.status.busy": "2023-07-07T04:31:53.054836Z",
     "iopub.status.idle": "2023-07-07T04:31:53.065030Z",
     "shell.execute_reply": "2023-07-07T04:31:53.063723Z"
    },
    "papermill": {
     "duration": 0.022008,
     "end_time": "2023-07-07T04:31:53.068018",
     "exception": false,
     "start_time": "2023-07-07T04:31:53.046010",
     "status": "completed"
    },
    "tags": []
   },
   "outputs": [
    {
     "name": "stdout",
     "output_type": "stream",
     "text": [
      "0    1\n",
      "1    0\n",
      "2    1\n",
      "3    4\n",
      "4    0\n",
      "Name: label, dtype: int64\n"
     ]
    },
    {
     "data": {
      "text/plain": [
       "array([[0., 1., 0., 0., 0., 0., 0., 0., 0., 0.],\n",
       "       [1., 0., 0., 0., 0., 0., 0., 0., 0., 0.],\n",
       "       [0., 1., 0., 0., 0., 0., 0., 0., 0., 0.],\n",
       "       [0., 0., 0., 0., 1., 0., 0., 0., 0., 0.],\n",
       "       [1., 0., 0., 0., 0., 0., 0., 0., 0., 0.]], dtype=float32)"
      ]
     },
     "execution_count": 8,
     "metadata": {},
     "output_type": "execute_result"
    }
   ],
   "source": [
    "print(train['label'].head())\n",
    "y_train[0:5,:]"
   ]
  },
  {
   "cell_type": "code",
   "execution_count": 9,
   "id": "6d95a330",
   "metadata": {
    "execution": {
     "iopub.execute_input": "2023-07-07T04:31:53.085002Z",
     "iopub.status.busy": "2023-07-07T04:31:53.084583Z",
     "iopub.status.idle": "2023-07-07T04:31:53.804910Z",
     "shell.execute_reply": "2023-07-07T04:31:53.803472Z"
    },
    "papermill": {
     "duration": 0.732119,
     "end_time": "2023-07-07T04:31:53.807835",
     "exception": false,
     "start_time": "2023-07-07T04:31:53.075716",
     "status": "completed"
    },
    "tags": []
   },
   "outputs": [],
   "source": [
    "from sklearn.model_selection import train_test_split\n",
    "X_train, X_cv, y_train, y_cv = train_test_split(X_train, y_train, test_size = 0.1, random_state=42)"
   ]
  },
  {
   "cell_type": "code",
   "execution_count": 10,
   "id": "a52bc381",
   "metadata": {
    "execution": {
     "iopub.execute_input": "2023-07-07T04:31:53.825024Z",
     "iopub.status.busy": "2023-07-07T04:31:53.824571Z",
     "iopub.status.idle": "2023-07-07T04:31:54.112165Z",
     "shell.execute_reply": "2023-07-07T04:31:54.111000Z"
    },
    "papermill": {
     "duration": 0.299142,
     "end_time": "2023-07-07T04:31:54.114695",
     "exception": false,
     "start_time": "2023-07-07T04:31:53.815553",
     "status": "completed"
    },
    "tags": []
   },
   "outputs": [
    {
     "data": {
      "image/png": "[encoded data removed]",
      "text/plain": [
       "<Figure size 640x480 with 1 Axes>"
      ]
     },
     "metadata": {},
     "output_type": "display_data"
    }
   ],
   "source": [
    "plt.imshow(X_train[5][:,:,0])\n",
    "plt.title(y_train[5].argmax());"
   ]
  },
  {
   "cell_type": "code",
   "execution_count": 11,
   "id": "2b3adb84",
   "metadata": {
    "execution": {
     "iopub.execute_input": "2023-07-07T04:31:54.132114Z",
     "iopub.status.busy": "2023-07-07T04:31:54.131722Z",
     "iopub.status.idle": "2023-07-07T04:31:54.138186Z",
     "shell.execute_reply": "2023-07-07T04:31:54.137003Z"
    },
    "papermill": {
     "duration": 0.017835,
     "end_time": "2023-07-07T04:31:54.140299",
     "exception": false,
     "start_time": "2023-07-07T04:31:54.122464",
     "status": "completed"
    },
    "tags": []
   },
   "outputs": [],
   "source": [
    "from keras.layers import Input,InputLayer, Dense, Activation, ZeroPadding2D, BatchNormalization, Flatten, Conv2D\n",
    "from keras.layers import AveragePooling2D, MaxPooling2D, Dropout\n",
    "from keras.models import Sequential,Model\n",
    "from keras.optimizers import SGD\n",
    "from keras.callbacks import ModelCheckpoint,LearningRateScheduler\n",
    "import keras\n",
    "from keras import backend as K"
   ]
  },
  {
   "cell_type": "code",
   "execution_count": 12,
   "id": "bb9f2f09",
   "metadata": {
    "execution": {
     "iopub.execute_input": "2023-07-07T04:31:54.158009Z",
     "iopub.status.busy": "2023-07-07T04:31:54.157608Z",
     "iopub.status.idle": "2023-07-07T04:31:54.538373Z",
     "shell.execute_reply": "2023-07-07T04:31:54.536953Z"
    },
    "papermill": {
     "duration": 0.397127,
     "end_time": "2023-07-07T04:31:54.545505",
     "exception": false,
     "start_time": "2023-07-07T04:31:54.148378",
     "status": "completed"
    },
    "tags": []
   },
   "outputs": [
    {
     "name": "stdout",
     "output_type": "stream",
     "text": [
      "Model: \"Predict\"\n",
      "_________________________________________________________________\n",
      " Layer (type)                Output Shape              Param #   \n",
      "=================================================================\n",
      " input_1 (InputLayer)        [(None, 28, 28, 1)]       0         \n",
      "                                                                 \n",
      " layer_conv1 (Conv2D)        (None, 28, 28, 64)        640       \n",
      "                                                                 \n",
      " batch_normalization (BatchN  (None, 28, 28, 64)       256       \n",
      " ormalization)                                                   \n",
      "                                                                 \n",
      " activation (Activation)     (None, 28, 28, 64)        0         \n",
      "                                                                 \n",
      " maxPool1 (MaxPooling2D)     (None, 14, 14, 64)        0         \n",
      "                                                                 \n",
      " layer_conv2 (Conv2D)        (None, 14, 14, 32)        18464     \n",
      "                                                                 \n",
      " batch_normalization_1 (Batc  (None, 14, 14, 32)       128       \n",
      " hNormalization)                                                 \n",
      "                                                                 \n",
      " activation_1 (Activation)   (None, 14, 14, 32)        0         \n",
      "                                                                 \n",
      " maxPool2 (MaxPooling2D)     (None, 7, 7, 32)          0         \n",
      "                                                                 \n",
      " conv3 (Conv2D)              (None, 7, 7, 32)          9248      \n",
      "                                                                 \n",
      " batch_normalization_2 (Batc  (None, 7, 7, 32)         128       \n",
      " hNormalization)                                                 \n",
      "                                                                 \n",
      " activation_2 (Activation)   (None, 7, 7, 32)          0         \n",
      "                                                                 \n",
      " maxPool3 (MaxPooling2D)     (None, 3, 3, 32)          0         \n",
      "                                                                 \n",
      " flatten (Flatten)           (None, 288)               0         \n",
      "                                                                 \n",
      " fc0 (Dense)                 (None, 64)                18496     \n",
      "                                                                 \n",
      " dropout (Dropout)           (None, 64)                0         \n",
      "                                                                 \n",
      " fc1 (Dense)                 (None, 32)                2080      \n",
      "                                                                 \n",
      " dropout_1 (Dropout)         (None, 32)                0         \n",
      "                                                                 \n",
      " fc2 (Dense)                 (None, 10)                330       \n",
      "                                                                 \n",
      "=================================================================\n",
      "Total params: 49,770\n",
      "Trainable params: 49,514\n",
      "Non-trainable params: 256\n",
      "_________________________________________________________________\n"
     ]
    }
   ],
   "source": [
    "# Building a CNN model\n",
    "input_shape = (28,28,1)\n",
    "X_input = Input(input_shape)\n",
    "\n",
    "# layer 1\n",
    "x = Conv2D(64,(3,3),strides=(1,1),name='layer_conv1',padding='same')(X_input)\n",
    "x = BatchNormalization()(x)\n",
    "x = Activation('relu')(x)\n",
    "x = MaxPooling2D((2,2),name='maxPool1')(x)\n",
    "# layer 2\n",
    "x = Conv2D(32,(3,3),strides=(1,1),name='layer_conv2',padding='same')(x)\n",
    "x = BatchNormalization()(x)\n",
    "x = Activation('relu')(x)\n",
    "x = MaxPooling2D((2,2),name='maxPool2')(x)\n",
    "# layer 3\n",
    "x = Conv2D(32,(3,3),strides=(1,1),name='conv3',padding='same')(x)\n",
    "x = BatchNormalization()(x)\n",
    "x = Activation('relu')(x)\n",
    "x = MaxPooling2D((2,2), name='maxPool3')(x)\n",
    "# fc\n",
    "x = Flatten()(x)\n",
    "x = Dense(64,activation ='relu',name='fc0')(x)\n",
    "x = Dropout(0.25)(x)\n",
    "x = Dense(32,activation ='relu',name='fc1')(x)\n",
    "x = Dropout(0.25)(x)\n",
    "x = Dense(10,activation ='softmax',name='fc2')(x)\n",
    "\n",
    "conv_model = Model(inputs=X_input, outputs=x, name='Predict')\n",
    "conv_model.summary()"
   ]
  },
  {
   "cell_type": "markdown",
   "id": "668f7b89",
   "metadata": {
    "papermill": {
     "duration": 0.01232,
     "end_time": "2023-07-07T04:31:54.570432",
     "exception": false,
     "start_time": "2023-07-07T04:31:54.558112",
     "status": "completed"
    },
    "tags": []
   },
   "source": [
    "### Note : \n",
    "In SGD 30 epochs is a reasonable choice to use although it takes a long time to compute.<br>\n",
    "Adam optimizer converges quicker. Use one of the following optimizers."
   ]
  },
  {
   "cell_type": "code",
   "execution_count": 13,
   "id": "42cd2348",
   "metadata": {
    "execution": {
     "iopub.execute_input": "2023-07-07T04:31:54.597030Z",
     "iopub.status.busy": "2023-07-07T04:31:54.596242Z",
     "iopub.status.idle": "2023-07-07T04:35:47.855566Z",
     "shell.execute_reply": "2023-07-07T04:35:47.854387Z"
    },
    "papermill": {
     "duration": 233.275131,
     "end_time": "2023-07-07T04:35:47.857926",
     "exception": false,
     "start_time": "2023-07-07T04:31:54.582795",
     "status": "completed"
    },
    "tags": []
   },
   "outputs": [
    {
     "name": "stdout",
     "output_type": "stream",
     "text": [
      "Epoch 1/5\n",
      "378/378 [==============================] - 50s 126ms/step - loss: 0.5507 - accuracy: 0.8248 - val_loss: 1.3779 - val_accuracy: 0.5062\n",
      "Epoch 2/5\n",
      "378/378 [==============================] - 46s 121ms/step - loss: 0.1421 - accuracy: 0.9596 - val_loss: 0.1439 - val_accuracy: 0.9569\n",
      "Epoch 3/5\n",
      "378/378 [==============================] - 46s 121ms/step - loss: 0.1019 - accuracy: 0.9717 - val_loss: 0.0521 - val_accuracy: 0.9840\n",
      "Epoch 4/5\n",
      "378/378 [==============================] - 46s 122ms/step - loss: 0.0796 - accuracy: 0.9776 - val_loss: 0.0460 - val_accuracy: 0.9840\n",
      "Epoch 5/5\n",
      "378/378 [==============================] - 46s 121ms/step - loss: 0.0711 - accuracy: 0.9806 - val_loss: 0.0484 - val_accuracy: 0.9852\n"
     ]
    },
    {
     "data": {
      "text/plain": [
       "<keras.callbacks.History at 0x7cc7c828f610>"
      ]
     },
     "execution_count": 13,
     "metadata": {},
     "output_type": "execute_result"
    }
   ],
   "source": [
    "\n",
    "# Adam optimizer\n",
    "conv_model.compile(optimizer='adam',loss='categorical_crossentropy',metrics=['accuracy'])\n",
    "conv_model.fit(X_train, y_train, epochs=5, batch_size=100, validation_data=(X_cv,y_cv))\n"
   ]
  },
  {
   "cell_type": "code",
   "execution_count": 14,
   "id": "ca7f236c",
   "metadata": {
    "execution": {
     "iopub.execute_input": "2023-07-07T04:35:48.222036Z",
     "iopub.status.busy": "2023-07-07T04:35:48.220991Z",
     "iopub.status.idle": "2023-07-07T04:46:17.884021Z",
     "shell.execute_reply": "2023-07-07T04:46:17.882847Z"
    },
    "papermill": {
     "duration": 629.847377,
     "end_time": "2023-07-07T04:46:17.886489",
     "exception": false,
     "start_time": "2023-07-07T04:35:48.039112",
     "status": "completed"
    },
    "tags": []
   },
   "outputs": [
    {
     "name": "stderr",
     "output_type": "stream",
     "text": [
      "/opt/conda/lib/python3.10/site-packages/keras/optimizers/legacy/gradient_descent.py:114: UserWarning: The `lr` argument is deprecated, use `learning_rate` instead.\n",
      "  super().__init__(name, **kwargs)\n"
     ]
    },
    {
     "name": "stdout",
     "output_type": "stream",
     "text": [
      "Epoch 1/12\n",
      "1182/1182 [==============================] - 53s 44ms/step - loss: 0.0484 - accuracy: 0.9868 - val_loss: 0.0349 - val_accuracy: 0.9890\n",
      "Epoch 2/12\n",
      "1182/1182 [==============================] - 52s 44ms/step - loss: 0.0453 - accuracy: 0.9880 - val_loss: 0.0333 - val_accuracy: 0.9900\n",
      "Epoch 3/12\n",
      "1182/1182 [==============================] - 52s 44ms/step - loss: 0.0408 - accuracy: 0.9889 - val_loss: 0.0320 - val_accuracy: 0.9898\n",
      "Epoch 4/12\n",
      "1182/1182 [==============================] - 52s 44ms/step - loss: 0.0395 - accuracy: 0.9887 - val_loss: 0.0309 - val_accuracy: 0.9907\n",
      "Epoch 5/12\n",
      "1182/1182 [==============================] - 52s 44ms/step - loss: 0.0369 - accuracy: 0.9898 - val_loss: 0.0309 - val_accuracy: 0.9905\n",
      "Epoch 6/12\n",
      "1182/1182 [==============================] - 53s 45ms/step - loss: 0.0366 - accuracy: 0.9896 - val_loss: 0.0304 - val_accuracy: 0.9917\n",
      "Epoch 7/12\n",
      "1182/1182 [==============================] - 52s 44ms/step - loss: 0.0364 - accuracy: 0.9899 - val_loss: 0.0303 - val_accuracy: 0.9914\n",
      "Epoch 8/12\n",
      "1182/1182 [==============================] - 52s 44ms/step - loss: 0.0366 - accuracy: 0.9899 - val_loss: 0.0295 - val_accuracy: 0.9917\n",
      "Epoch 9/12\n",
      "1182/1182 [==============================] - 54s 45ms/step - loss: 0.0360 - accuracy: 0.9902 - val_loss: 0.0289 - val_accuracy: 0.9919\n",
      "Epoch 10/12\n",
      "1182/1182 [==============================] - 52s 44ms/step - loss: 0.0348 - accuracy: 0.9902 - val_loss: 0.0294 - val_accuracy: 0.9912\n",
      "Epoch 11/12\n",
      "1182/1182 [==============================] - 52s 44ms/step - loss: 0.0357 - accuracy: 0.9904 - val_loss: 0.0288 - val_accuracy: 0.9929\n",
      "Epoch 12/12\n",
      "1182/1182 [==============================] - 54s 45ms/step - loss: 0.0333 - accuracy: 0.9908 - val_loss: 0.0294 - val_accuracy: 0.9919\n"
     ]
    },
    {
     "data": {
      "text/plain": [
       "<keras.callbacks.History at 0x7cc7c828f6d0>"
      ]
     },
     "execution_count": 14,
     "metadata": {},
     "output_type": "execute_result"
    }
   ],
   "source": [
    "\n",
    "# SGD optimizer\n",
    "sgd = SGD(lr=0.0005, momentum=0.5, decay=0.0, nesterov=False) \n",
    "conv_model.compile(optimizer=sgd,loss='categorical_crossentropy',metrics=['accuracy'])\n",
    "conv_model.fit(X_train, y_train, epochs=12, validation_data=(X_cv, y_cv))\n"
   ]
  },
  {
   "cell_type": "code",
   "execution_count": 15,
   "id": "d621c21d",
   "metadata": {
    "execution": {
     "iopub.execute_input": "2023-07-07T04:46:19.701061Z",
     "iopub.status.busy": "2023-07-07T04:46:19.700569Z",
     "iopub.status.idle": "2023-07-07T04:46:40.625981Z",
     "shell.execute_reply": "2023-07-07T04:46:40.624887Z"
    },
    "papermill": {
     "duration": 21.868777,
     "end_time": "2023-07-07T04:46:40.628748",
     "exception": false,
     "start_time": "2023-07-07T04:46:18.759971",
     "status": "completed"
    },
    "tags": []
   },
   "outputs": [
    {
     "name": "stdout",
     "output_type": "stream",
     "text": [
      "875/875 [==============================] - 10s 11ms/step\n"
     ]
    }
   ],
   "source": [
    "y_pred = conv_model.predict(X_test)\n",
    "y_pred = np.argmax(y_pred,axis=1)\n",
    "my_submission = pd.DataFrame({'ImageId': list(range(1, len(y_pred)+1)), 'Label': y_pred})\n",
    "my_submission.to_csv('submission.csv', index=False)"
   ]
  },
  {
   "cell_type": "markdown",
   "id": "cc495058",
   "metadata": {
    "papermill": {
     "duration": 0.960056,
     "end_time": "2023-07-07T04:46:42.471395",
     "exception": false,
     "start_time": "2023-07-07T04:46:41.511339",
     "status": "completed"
    },
    "tags": []
   },
   "source": [
    "## Test Accuracy\n",
    "\n",
    "Adam optimizer (10 epochs, batch size = 100) : 0.9808<br>\n",
    "SGD optimizer (12 epochs) : 0.97600"
   ]
  }
 ],
 "metadata": {
  "kernelspec": {
   "display_name": "Python 3",
   "language": "python",
   "name": "python3"
  },
  "language_info": {
   "codemirror_mode": {
    "name": "ipython",
    "version": 3
   },
   "file_extension": ".py",
   "mimetype": "text/x-python",
   "name": "python",
   "nbconvert_exporter": "python",
   "pygments_lexer": "ipython3",
   "version": "3.10.10"
  },
  "papermill": {
   "default_parameters": {},
   "duration": 922.521414,
   "end_time": "2023-07-07T04:46:46.356110",
   "environment_variables": {},
   "exception": null,
   "input_path": "__notebook__.ipynb",
   "output_path": "__notebook__.ipynb",
   "parameters": {},
   "start_time": "2023-07-07T04:31:23.834696",
   "version": "2.4.0"
  }
 },
 "nbformat": 4,
 "nbformat_minor": 5
}
