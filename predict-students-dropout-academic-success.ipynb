{
 "cells": [
  {
   "cell_type": "markdown",
   "id": "3ab2aae0",
   "metadata": {
    "papermill": {
     "duration": 0.010788,
     "end_time": "2023-07-28T10:04:26.921668",
     "exception": false,
     "start_time": "2023-07-28T10:04:26.910880",
     "status": "completed"
    },
    "tags": []
   },
   "source": [
    "# ****Predicting students dropout, academic success by using Machine Learning Algoritm"
   ]
  },
  {
   "cell_type": "markdown",
   "id": "f20451dd",
   "metadata": {
    "papermill": {
     "duration": 0.01056,
     "end_time": "2023-07-28T10:04:26.943283",
     "exception": false,
     "start_time": "2023-07-28T10:04:26.932723",
     "status": "completed"
    },
    "tags": []
   },
   "source": [
    "# Importing Libraries"
   ]
  },
  {
   "cell_type": "code",
   "execution_count": 1,
   "id": "acd007bf",
   "metadata": {
    "execution": {
     "iopub.execute_input": "2023-07-28T10:04:26.967004Z",
     "iopub.status.busy": "2023-07-28T10:04:26.966387Z",
     "iopub.status.idle": "2023-07-28T10:04:29.003183Z",
     "shell.execute_reply": "2023-07-28T10:04:29.001886Z"
    },
    "papermill": {
     "duration": 2.051334,
     "end_time": "2023-07-28T10:04:29.005865",
     "exception": false,
     "start_time": "2023-07-28T10:04:26.954531",
     "status": "completed"
    },
    "tags": []
   },
   "outputs": [
    {
     "name": "stderr",
     "output_type": "stream",
     "text": [
      "/opt/conda/lib/python3.10/site-packages/scipy/__init__.py:146: UserWarning: A NumPy version >=1.16.5 and <1.23.0 is required for this version of SciPy (detected version 1.23.5\n",
      "  warnings.warn(f\"A NumPy version >={np_minversion} and <{np_maxversion}\"\n"
     ]
    },
    {
     "name": "stdout",
     "output_type": "stream",
     "text": [
      "/kaggle/input/predict-students-dropout-and-academic-success/dataset.csv\n"
     ]
    }
   ],
   "source": [
    "import pandas as pd\n",
    "import numpy as np\n",
    "import seaborn as sns\n",
    "from matplotlib import pyplot as plt\n",
    "import matplotlib.patches as mpatches\n",
    "from sklearn.preprocessing import StandardScaler\n",
    "from sklearn.preprocessing import LabelEncoder\n",
    "from sklearn.model_selection import train_test_split\n",
    "from sklearn.linear_model import LogisticRegression\n",
    "from sklearn.metrics import accuracy_score, precision_recall_fscore_support, precision_score, recall_score, f1_score\n",
    "from sklearn.metrics import confusion_matrix, classification_report\n",
    "from sklearn.svm import SVC\n",
    "from sklearn.svm import LinearSVC\n",
    "from scipy import stats\n",
    "from sklearn.ensemble import RandomForestClassifier\n",
    "import warnings # ignores pink warnings \n",
    "warnings.filterwarnings('ignore')\n",
    "\n",
    "import os\n",
    "for dirname, _, filenames in os.walk('/kaggle/input'):\n",
    "    for filename in filenames:\n",
    "        print(os.path.join(dirname, filename))\n",
    "\n",
    "# You can write up to 20GB to the current directory (/kaggle/working/) that gets preserved as output when you create a version using \"Save & Run All\" \n",
    "# You can also write temporary files to /kaggle/temp/, but they won't be saved outside of the current session"
   ]
  },
  {
   "cell_type": "markdown",
   "id": "20764e34",
   "metadata": {
    "papermill": {
     "duration": 0.01046,
     "end_time": "2023-07-28T10:04:29.027069",
     "exception": false,
     "start_time": "2023-07-28T10:04:29.016609",
     "status": "completed"
    },
    "tags": []
   },
   "source": [
    "# **data loading**"
   ]
  },
  {
   "cell_type": "code",
   "execution_count": 2,
   "id": "735690ca",
   "metadata": {
    "execution": {
     "iopub.execute_input": "2023-07-28T10:04:29.051576Z",
     "iopub.status.busy": "2023-07-28T10:04:29.051214Z",
     "iopub.status.idle": "2023-07-28T10:04:29.119578Z",
     "shell.execute_reply": "2023-07-28T10:04:29.118475Z"
    },
    "papermill": {
     "duration": 0.083995,
     "end_time": "2023-07-28T10:04:29.121540",
     "exception": false,
     "start_time": "2023-07-28T10:04:29.037545",
     "status": "completed"
    },
    "tags": []
   },
   "outputs": [
    {
     "data": {
      "text/html": [
       "<div>\n",
       "<style scoped>\n",
       "    .dataframe tbody tr th:only-of-type {\n",
       "        vertical-align: middle;\n",
       "    }\n",
       "\n",
       "    .dataframe tbody tr th {\n",
       "        vertical-align: top;\n",
       "    }\n",
       "\n",
       "    .dataframe thead th {\n",
       "        text-align: right;\n",
       "    }\n",
       "</style>\n",
       "<table border=\"1\" class=\"dataframe\">\n",
       "  <thead>\n",
       "    <tr style=\"text-align: right;\">\n",
       "      <th></th>\n",
       "      <th>Marital status</th>\n",
       "      <th>Application mode</th>\n",
       "      <th>Application order</th>\n",
       "      <th>Course</th>\n",
       "      <th>Daytime/evening attendance</th>\n",
       "      <th>Previous qualification</th>\n",
       "      <th>Nacionality</th>\n",
       "      <th>Mother's qualification</th>\n",
       "      <th>Father's qualification</th>\n",
       "      <th>Mother's occupation</th>\n",
       "      <th>...</th>\n",
       "      <th>Curricular units 2nd sem (credited)</th>\n",
       "      <th>Curricular units 2nd sem (enrolled)</th>\n",
       "      <th>Curricular units 2nd sem (evaluations)</th>\n",
       "      <th>Curricular units 2nd sem (approved)</th>\n",
       "      <th>Curricular units 2nd sem (grade)</th>\n",
       "      <th>Curricular units 2nd sem (without evaluations)</th>\n",
       "      <th>Unemployment rate</th>\n",
       "      <th>Inflation rate</th>\n",
       "      <th>GDP</th>\n",
       "      <th>Target</th>\n",
       "    </tr>\n",
       "  </thead>\n",
       "  <tbody>\n",
       "    <tr>\n",
       "      <th>0</th>\n",
       "      <td>1</td>\n",
       "      <td>8</td>\n",
       "      <td>5</td>\n",
       "      <td>2</td>\n",
       "      <td>1</td>\n",
       "      <td>1</td>\n",
       "      <td>1</td>\n",
       "      <td>13</td>\n",
       "      <td>10</td>\n",
       "      <td>6</td>\n",
       "      <td>...</td>\n",
       "      <td>0</td>\n",
       "      <td>0</td>\n",
       "      <td>0</td>\n",
       "      <td>0</td>\n",
       "      <td>0.000000</td>\n",
       "      <td>0</td>\n",
       "      <td>10.8</td>\n",
       "      <td>1.4</td>\n",
       "      <td>1.74</td>\n",
       "      <td>Dropout</td>\n",
       "    </tr>\n",
       "    <tr>\n",
       "      <th>1</th>\n",
       "      <td>1</td>\n",
       "      <td>6</td>\n",
       "      <td>1</td>\n",
       "      <td>11</td>\n",
       "      <td>1</td>\n",
       "      <td>1</td>\n",
       "      <td>1</td>\n",
       "      <td>1</td>\n",
       "      <td>3</td>\n",
       "      <td>4</td>\n",
       "      <td>...</td>\n",
       "      <td>0</td>\n",
       "      <td>6</td>\n",
       "      <td>6</td>\n",
       "      <td>6</td>\n",
       "      <td>13.666667</td>\n",
       "      <td>0</td>\n",
       "      <td>13.9</td>\n",
       "      <td>-0.3</td>\n",
       "      <td>0.79</td>\n",
       "      <td>Graduate</td>\n",
       "    </tr>\n",
       "    <tr>\n",
       "      <th>2</th>\n",
       "      <td>1</td>\n",
       "      <td>1</td>\n",
       "      <td>5</td>\n",
       "      <td>5</td>\n",
       "      <td>1</td>\n",
       "      <td>1</td>\n",
       "      <td>1</td>\n",
       "      <td>22</td>\n",
       "      <td>27</td>\n",
       "      <td>10</td>\n",
       "      <td>...</td>\n",
       "      <td>0</td>\n",
       "      <td>6</td>\n",
       "      <td>0</td>\n",
       "      <td>0</td>\n",
       "      <td>0.000000</td>\n",
       "      <td>0</td>\n",
       "      <td>10.8</td>\n",
       "      <td>1.4</td>\n",
       "      <td>1.74</td>\n",
       "      <td>Dropout</td>\n",
       "    </tr>\n",
       "    <tr>\n",
       "      <th>3</th>\n",
       "      <td>1</td>\n",
       "      <td>8</td>\n",
       "      <td>2</td>\n",
       "      <td>15</td>\n",
       "      <td>1</td>\n",
       "      <td>1</td>\n",
       "      <td>1</td>\n",
       "      <td>23</td>\n",
       "      <td>27</td>\n",
       "      <td>6</td>\n",
       "      <td>...</td>\n",
       "      <td>0</td>\n",
       "      <td>6</td>\n",
       "      <td>10</td>\n",
       "      <td>5</td>\n",
       "      <td>12.400000</td>\n",
       "      <td>0</td>\n",
       "      <td>9.4</td>\n",
       "      <td>-0.8</td>\n",
       "      <td>-3.12</td>\n",
       "      <td>Graduate</td>\n",
       "    </tr>\n",
       "    <tr>\n",
       "      <th>4</th>\n",
       "      <td>2</td>\n",
       "      <td>12</td>\n",
       "      <td>1</td>\n",
       "      <td>3</td>\n",
       "      <td>0</td>\n",
       "      <td>1</td>\n",
       "      <td>1</td>\n",
       "      <td>22</td>\n",
       "      <td>28</td>\n",
       "      <td>10</td>\n",
       "      <td>...</td>\n",
       "      <td>0</td>\n",
       "      <td>6</td>\n",
       "      <td>6</td>\n",
       "      <td>6</td>\n",
       "      <td>13.000000</td>\n",
       "      <td>0</td>\n",
       "      <td>13.9</td>\n",
       "      <td>-0.3</td>\n",
       "      <td>0.79</td>\n",
       "      <td>Graduate</td>\n",
       "    </tr>\n",
       "  </tbody>\n",
       "</table>\n",
       "<p>5 rows × 35 columns</p>\n",
       "</div>"
      ],
      "text/plain": [
       "   Marital status  Application mode  Application order  Course  \\\n",
       "0               1                 8                  5       2   \n",
       "1               1                 6                  1      11   \n",
       "2               1                 1                  5       5   \n",
       "3               1                 8                  2      15   \n",
       "4               2                12                  1       3   \n",
       "\n",
       "   Daytime/evening attendance  Previous qualification  Nacionality  \\\n",
       "0                           1                       1            1   \n",
       "1                           1                       1            1   \n",
       "2                           1                       1            1   \n",
       "3                           1                       1            1   \n",
       "4                           0                       1            1   \n",
       "\n",
       "   Mother's qualification  Father's qualification  Mother's occupation  ...  \\\n",
       "0                      13                      10                    6  ...   \n",
       "1                       1                       3                    4  ...   \n",
       "2                      22                      27                   10  ...   \n",
       "3                      23                      27                    6  ...   \n",
       "4                      22                      28                   10  ...   \n",
       "\n",
       "   Curricular units 2nd sem (credited)  Curricular units 2nd sem (enrolled)  \\\n",
       "0                                    0                                    0   \n",
       "1                                    0                                    6   \n",
       "2                                    0                                    6   \n",
       "3                                    0                                    6   \n",
       "4                                    0                                    6   \n",
       "\n",
       "   Curricular units 2nd sem (evaluations)  \\\n",
       "0                                       0   \n",
       "1                                       6   \n",
       "2                                       0   \n",
       "3                                      10   \n",
       "4                                       6   \n",
       "\n",
       "   Curricular units 2nd sem (approved)  Curricular units 2nd sem (grade)  \\\n",
       "0                                    0                          0.000000   \n",
       "1                                    6                         13.666667   \n",
       "2                                    0                          0.000000   \n",
       "3                                    5                         12.400000   \n",
       "4                                    6                         13.000000   \n",
       "\n",
       "   Curricular units 2nd sem (without evaluations)  Unemployment rate  \\\n",
       "0                                               0               10.8   \n",
       "1                                               0               13.9   \n",
       "2                                               0               10.8   \n",
       "3                                               0                9.4   \n",
       "4                                               0               13.9   \n",
       "\n",
       "   Inflation rate   GDP    Target  \n",
       "0             1.4  1.74   Dropout  \n",
       "1            -0.3  0.79  Graduate  \n",
       "2             1.4  1.74   Dropout  \n",
       "3            -0.8 -3.12  Graduate  \n",
       "4            -0.3  0.79  Graduate  \n",
       "\n",
       "[5 rows x 35 columns]"
      ]
     },
     "execution_count": 2,
     "metadata": {},
     "output_type": "execute_result"
    }
   ],
   "source": [
    "df = pd.read_csv('/kaggle/input/predict-students-dropout-and-academic-success/dataset.csv')\n",
    "#view the data\n",
    "df.head()"
   ]
  },
  {
   "cell_type": "markdown",
   "id": "32073a8d",
   "metadata": {
    "papermill": {
     "duration": 0.010609,
     "end_time": "2023-07-28T10:04:29.143070",
     "exception": false,
     "start_time": "2023-07-28T10:04:29.132461",
     "status": "completed"
    },
    "tags": []
   },
   "source": [
    "# finding null# "
   ]
  },
  {
   "cell_type": "code",
   "execution_count": 3,
   "id": "19b40d57",
   "metadata": {
    "execution": {
     "iopub.execute_input": "2023-07-28T10:04:29.166293Z",
     "iopub.status.busy": "2023-07-28T10:04:29.165952Z",
     "iopub.status.idle": "2023-07-28T10:04:29.175592Z",
     "shell.execute_reply": "2023-07-28T10:04:29.174524Z"
    },
    "papermill": {
     "duration": 0.023415,
     "end_time": "2023-07-28T10:04:29.177340",
     "exception": false,
     "start_time": "2023-07-28T10:04:29.153925",
     "status": "completed"
    },
    "tags": []
   },
   "outputs": [
    {
     "data": {
      "text/plain": [
       "Marital status                                    0\n",
       "Application mode                                  0\n",
       "Application order                                 0\n",
       "Course                                            0\n",
       "Daytime/evening attendance                        0\n",
       "Previous qualification                            0\n",
       "Nacionality                                       0\n",
       "Mother's qualification                            0\n",
       "Father's qualification                            0\n",
       "Mother's occupation                               0\n",
       "Father's occupation                               0\n",
       "Displaced                                         0\n",
       "Educational special needs                         0\n",
       "Debtor                                            0\n",
       "Tuition fees up to date                           0\n",
       "Gender                                            0\n",
       "Scholarship holder                                0\n",
       "Age at enrollment                                 0\n",
       "International                                     0\n",
       "Curricular units 1st sem (credited)               0\n",
       "Curricular units 1st sem (enrolled)               0\n",
       "Curricular units 1st sem (evaluations)            0\n",
       "Curricular units 1st sem (approved)               0\n",
       "Curricular units 1st sem (grade)                  0\n",
       "Curricular units 1st sem (without evaluations)    0\n",
       "Curricular units 2nd sem (credited)               0\n",
       "Curricular units 2nd sem (enrolled)               0\n",
       "Curricular units 2nd sem (evaluations)            0\n",
       "Curricular units 2nd sem (approved)               0\n",
       "Curricular units 2nd sem (grade)                  0\n",
       "Curricular units 2nd sem (without evaluations)    0\n",
       "Unemployment rate                                 0\n",
       "Inflation rate                                    0\n",
       "GDP                                               0\n",
       "Target                                            0\n",
       "dtype: int64"
      ]
     },
     "execution_count": 3,
     "metadata": {},
     "output_type": "execute_result"
    }
   ],
   "source": [
    "df.isna().sum()"
   ]
  },
  {
   "cell_type": "markdown",
   "id": "db4ed1a6",
   "metadata": {
    "papermill": {
     "duration": 0.010337,
     "end_time": "2023-07-28T10:04:29.198942",
     "exception": false,
     "start_time": "2023-07-28T10:04:29.188605",
     "status": "completed"
    },
    "tags": []
   },
   "source": [
    "# finding duplicates"
   ]
  },
  {
   "cell_type": "code",
   "execution_count": 4,
   "id": "8a0ba1da",
   "metadata": {
    "execution": {
     "iopub.execute_input": "2023-07-28T10:04:29.222015Z",
     "iopub.status.busy": "2023-07-28T10:04:29.221680Z",
     "iopub.status.idle": "2023-07-28T10:04:29.241285Z",
     "shell.execute_reply": "2023-07-28T10:04:29.240103Z"
    },
    "papermill": {
     "duration": 0.033403,
     "end_time": "2023-07-28T10:04:29.243101",
     "exception": false,
     "start_time": "2023-07-28T10:04:29.209698",
     "status": "completed"
    },
    "tags": []
   },
   "outputs": [
    {
     "data": {
      "text/plain": [
       "0"
      ]
     },
     "execution_count": 4,
     "metadata": {},
     "output_type": "execute_result"
    }
   ],
   "source": [
    "df.duplicated().sum()"
   ]
  },
  {
   "cell_type": "code",
   "execution_count": 5,
   "id": "f3fd13c6",
   "metadata": {
    "execution": {
     "iopub.execute_input": "2023-07-28T10:04:29.266511Z",
     "iopub.status.busy": "2023-07-28T10:04:29.266130Z",
     "iopub.status.idle": "2023-07-28T10:04:29.284966Z",
     "shell.execute_reply": "2023-07-28T10:04:29.283806Z"
    },
    "papermill": {
     "duration": 0.033189,
     "end_time": "2023-07-28T10:04:29.287277",
     "exception": false,
     "start_time": "2023-07-28T10:04:29.254088",
     "status": "completed"
    },
    "tags": []
   },
   "outputs": [
    {
     "name": "stdout",
     "output_type": "stream",
     "text": [
      "<class 'pandas.core.frame.DataFrame'>\n",
      "RangeIndex: 4424 entries, 0 to 4423\n",
      "Data columns (total 35 columns):\n",
      " #   Column                                          Non-Null Count  Dtype  \n",
      "---  ------                                          --------------  -----  \n",
      " 0   Marital status                                  4424 non-null   int64  \n",
      " 1   Application mode                                4424 non-null   int64  \n",
      " 2   Application order                               4424 non-null   int64  \n",
      " 3   Course                                          4424 non-null   int64  \n",
      " 4   Daytime/evening attendance                      4424 non-null   int64  \n",
      " 5   Previous qualification                          4424 non-null   int64  \n",
      " 6   Nacionality                                     4424 non-null   int64  \n",
      " 7   Mother's qualification                          4424 non-null   int64  \n",
      " 8   Father's qualification                          4424 non-null   int64  \n",
      " 9   Mother's occupation                             4424 non-null   int64  \n",
      " 10  Father's occupation                             4424 non-null   int64  \n",
      " 11  Displaced                                       4424 non-null   int64  \n",
      " 12  Educational special needs                       4424 non-null   int64  \n",
      " 13  Debtor                                          4424 non-null   int64  \n",
      " 14  Tuition fees up to date                         4424 non-null   int64  \n",
      " 15  Gender                                          4424 non-null   int64  \n",
      " 16  Scholarship holder                              4424 non-null   int64  \n",
      " 17  Age at enrollment                               4424 non-null   int64  \n",
      " 18  International                                   4424 non-null   int64  \n",
      " 19  Curricular units 1st sem (credited)             4424 non-null   int64  \n",
      " 20  Curricular units 1st sem (enrolled)             4424 non-null   int64  \n",
      " 21  Curricular units 1st sem (evaluations)          4424 non-null   int64  \n",
      " 22  Curricular units 1st sem (approved)             4424 non-null   int64  \n",
      " 23  Curricular units 1st sem (grade)                4424 non-null   float64\n",
      " 24  Curricular units 1st sem (without evaluations)  4424 non-null   int64  \n",
      " 25  Curricular units 2nd sem (credited)             4424 non-null   int64  \n",
      " 26  Curricular units 2nd sem (enrolled)             4424 non-null   int64  \n",
      " 27  Curricular units 2nd sem (evaluations)          4424 non-null   int64  \n",
      " 28  Curricular units 2nd sem (approved)             4424 non-null   int64  \n",
      " 29  Curricular units 2nd sem (grade)                4424 non-null   float64\n",
      " 30  Curricular units 2nd sem (without evaluations)  4424 non-null   int64  \n",
      " 31  Unemployment rate                               4424 non-null   float64\n",
      " 32  Inflation rate                                  4424 non-null   float64\n",
      " 33  GDP                                             4424 non-null   float64\n",
      " 34  Target                                          4424 non-null   object \n",
      "dtypes: float64(5), int64(29), object(1)\n",
      "memory usage: 1.2+ MB\n"
     ]
    }
   ],
   "source": [
    "df.info()"
   ]
  },
  {
   "cell_type": "markdown",
   "id": "0c3591be",
   "metadata": {
    "papermill": {
     "duration": 0.011326,
     "end_time": "2023-07-28T10:04:29.313136",
     "exception": false,
     "start_time": "2023-07-28T10:04:29.301810",
     "status": "completed"
    },
    "tags": []
   },
   "source": [
    "# statistical summary"
   ]
  },
  {
   "cell_type": "code",
   "execution_count": 6,
   "id": "de9312a5",
   "metadata": {
    "execution": {
     "iopub.execute_input": "2023-07-28T10:04:29.338305Z",
     "iopub.status.busy": "2023-07-28T10:04:29.337929Z",
     "iopub.status.idle": "2023-07-28T10:04:29.428426Z",
     "shell.execute_reply": "2023-07-28T10:04:29.427374Z"
    },
    "papermill": {
     "duration": 0.105545,
     "end_time": "2023-07-28T10:04:29.430419",
     "exception": false,
     "start_time": "2023-07-28T10:04:29.324874",
     "status": "completed"
    },
    "tags": []
   },
   "outputs": [
    {
     "data": {
      "text/html": [
       "<div>\n",
       "<style scoped>\n",
       "    .dataframe tbody tr th:only-of-type {\n",
       "        vertical-align: middle;\n",
       "    }\n",
       "\n",
       "    .dataframe tbody tr th {\n",
       "        vertical-align: top;\n",
       "    }\n",
       "\n",
       "    .dataframe thead th {\n",
       "        text-align: right;\n",
       "    }\n",
       "</style>\n",
       "<table border=\"1\" class=\"dataframe\">\n",
       "  <thead>\n",
       "    <tr style=\"text-align: right;\">\n",
       "      <th></th>\n",
       "      <th>Marital status</th>\n",
       "      <th>Application mode</th>\n",
       "      <th>Application order</th>\n",
       "      <th>Course</th>\n",
       "      <th>Daytime/evening attendance</th>\n",
       "      <th>Previous qualification</th>\n",
       "      <th>Nacionality</th>\n",
       "      <th>Mother's qualification</th>\n",
       "      <th>Father's qualification</th>\n",
       "      <th>Mother's occupation</th>\n",
       "      <th>...</th>\n",
       "      <th>Curricular units 1st sem (without evaluations)</th>\n",
       "      <th>Curricular units 2nd sem (credited)</th>\n",
       "      <th>Curricular units 2nd sem (enrolled)</th>\n",
       "      <th>Curricular units 2nd sem (evaluations)</th>\n",
       "      <th>Curricular units 2nd sem (approved)</th>\n",
       "      <th>Curricular units 2nd sem (grade)</th>\n",
       "      <th>Curricular units 2nd sem (without evaluations)</th>\n",
       "      <th>Unemployment rate</th>\n",
       "      <th>Inflation rate</th>\n",
       "      <th>GDP</th>\n",
       "    </tr>\n",
       "  </thead>\n",
       "  <tbody>\n",
       "    <tr>\n",
       "      <th>count</th>\n",
       "      <td>4424.00</td>\n",
       "      <td>4424.00</td>\n",
       "      <td>4424.00</td>\n",
       "      <td>4424.00</td>\n",
       "      <td>4424.00</td>\n",
       "      <td>4424.00</td>\n",
       "      <td>4424.00</td>\n",
       "      <td>4424.00</td>\n",
       "      <td>4424.00</td>\n",
       "      <td>4424.00</td>\n",
       "      <td>...</td>\n",
       "      <td>4424.00</td>\n",
       "      <td>4424.00</td>\n",
       "      <td>4424.00</td>\n",
       "      <td>4424.00</td>\n",
       "      <td>4424.00</td>\n",
       "      <td>4424.00</td>\n",
       "      <td>4424.00</td>\n",
       "      <td>4424.00</td>\n",
       "      <td>4424.00</td>\n",
       "      <td>4.42e+03</td>\n",
       "    </tr>\n",
       "    <tr>\n",
       "      <th>mean</th>\n",
       "      <td>1.18</td>\n",
       "      <td>6.89</td>\n",
       "      <td>1.73</td>\n",
       "      <td>9.90</td>\n",
       "      <td>0.89</td>\n",
       "      <td>2.53</td>\n",
       "      <td>1.25</td>\n",
       "      <td>12.32</td>\n",
       "      <td>16.46</td>\n",
       "      <td>7.32</td>\n",
       "      <td>...</td>\n",
       "      <td>0.14</td>\n",
       "      <td>0.54</td>\n",
       "      <td>6.23</td>\n",
       "      <td>8.06</td>\n",
       "      <td>4.44</td>\n",
       "      <td>10.23</td>\n",
       "      <td>0.15</td>\n",
       "      <td>11.57</td>\n",
       "      <td>1.23</td>\n",
       "      <td>1.97e-03</td>\n",
       "    </tr>\n",
       "    <tr>\n",
       "      <th>std</th>\n",
       "      <td>0.61</td>\n",
       "      <td>5.30</td>\n",
       "      <td>1.31</td>\n",
       "      <td>4.33</td>\n",
       "      <td>0.31</td>\n",
       "      <td>3.96</td>\n",
       "      <td>1.75</td>\n",
       "      <td>9.03</td>\n",
       "      <td>11.04</td>\n",
       "      <td>4.00</td>\n",
       "      <td>...</td>\n",
       "      <td>0.69</td>\n",
       "      <td>1.92</td>\n",
       "      <td>2.20</td>\n",
       "      <td>3.95</td>\n",
       "      <td>3.01</td>\n",
       "      <td>5.21</td>\n",
       "      <td>0.75</td>\n",
       "      <td>2.66</td>\n",
       "      <td>1.38</td>\n",
       "      <td>2.27e+00</td>\n",
       "    </tr>\n",
       "    <tr>\n",
       "      <th>min</th>\n",
       "      <td>1.00</td>\n",
       "      <td>1.00</td>\n",
       "      <td>0.00</td>\n",
       "      <td>1.00</td>\n",
       "      <td>0.00</td>\n",
       "      <td>1.00</td>\n",
       "      <td>1.00</td>\n",
       "      <td>1.00</td>\n",
       "      <td>1.00</td>\n",
       "      <td>1.00</td>\n",
       "      <td>...</td>\n",
       "      <td>0.00</td>\n",
       "      <td>0.00</td>\n",
       "      <td>0.00</td>\n",
       "      <td>0.00</td>\n",
       "      <td>0.00</td>\n",
       "      <td>0.00</td>\n",
       "      <td>0.00</td>\n",
       "      <td>7.60</td>\n",
       "      <td>-0.80</td>\n",
       "      <td>-4.06e+00</td>\n",
       "    </tr>\n",
       "    <tr>\n",
       "      <th>25%</th>\n",
       "      <td>1.00</td>\n",
       "      <td>1.00</td>\n",
       "      <td>1.00</td>\n",
       "      <td>6.00</td>\n",
       "      <td>1.00</td>\n",
       "      <td>1.00</td>\n",
       "      <td>1.00</td>\n",
       "      <td>2.00</td>\n",
       "      <td>3.00</td>\n",
       "      <td>5.00</td>\n",
       "      <td>...</td>\n",
       "      <td>0.00</td>\n",
       "      <td>0.00</td>\n",
       "      <td>5.00</td>\n",
       "      <td>6.00</td>\n",
       "      <td>2.00</td>\n",
       "      <td>10.75</td>\n",
       "      <td>0.00</td>\n",
       "      <td>9.40</td>\n",
       "      <td>0.30</td>\n",
       "      <td>-1.70e+00</td>\n",
       "    </tr>\n",
       "    <tr>\n",
       "      <th>50%</th>\n",
       "      <td>1.00</td>\n",
       "      <td>8.00</td>\n",
       "      <td>1.00</td>\n",
       "      <td>10.00</td>\n",
       "      <td>1.00</td>\n",
       "      <td>1.00</td>\n",
       "      <td>1.00</td>\n",
       "      <td>13.00</td>\n",
       "      <td>14.00</td>\n",
       "      <td>6.00</td>\n",
       "      <td>...</td>\n",
       "      <td>0.00</td>\n",
       "      <td>0.00</td>\n",
       "      <td>6.00</td>\n",
       "      <td>8.00</td>\n",
       "      <td>5.00</td>\n",
       "      <td>12.20</td>\n",
       "      <td>0.00</td>\n",
       "      <td>11.10</td>\n",
       "      <td>1.40</td>\n",
       "      <td>3.20e-01</td>\n",
       "    </tr>\n",
       "    <tr>\n",
       "      <th>75%</th>\n",
       "      <td>1.00</td>\n",
       "      <td>12.00</td>\n",
       "      <td>2.00</td>\n",
       "      <td>13.00</td>\n",
       "      <td>1.00</td>\n",
       "      <td>1.00</td>\n",
       "      <td>1.00</td>\n",
       "      <td>22.00</td>\n",
       "      <td>27.00</td>\n",
       "      <td>10.00</td>\n",
       "      <td>...</td>\n",
       "      <td>0.00</td>\n",
       "      <td>0.00</td>\n",
       "      <td>7.00</td>\n",
       "      <td>10.00</td>\n",
       "      <td>6.00</td>\n",
       "      <td>13.33</td>\n",
       "      <td>0.00</td>\n",
       "      <td>13.90</td>\n",
       "      <td>2.60</td>\n",
       "      <td>1.79e+00</td>\n",
       "    </tr>\n",
       "    <tr>\n",
       "      <th>max</th>\n",
       "      <td>6.00</td>\n",
       "      <td>18.00</td>\n",
       "      <td>9.00</td>\n",
       "      <td>17.00</td>\n",
       "      <td>1.00</td>\n",
       "      <td>17.00</td>\n",
       "      <td>21.00</td>\n",
       "      <td>29.00</td>\n",
       "      <td>34.00</td>\n",
       "      <td>32.00</td>\n",
       "      <td>...</td>\n",
       "      <td>12.00</td>\n",
       "      <td>19.00</td>\n",
       "      <td>23.00</td>\n",
       "      <td>33.00</td>\n",
       "      <td>20.00</td>\n",
       "      <td>18.57</td>\n",
       "      <td>12.00</td>\n",
       "      <td>16.20</td>\n",
       "      <td>3.70</td>\n",
       "      <td>3.51e+00</td>\n",
       "    </tr>\n",
       "  </tbody>\n",
       "</table>\n",
       "<p>8 rows × 34 columns</p>\n",
       "</div>"
      ],
      "text/plain": [
       "       Marital status  Application mode  Application order   Course  \\\n",
       "count         4424.00           4424.00            4424.00  4424.00   \n",
       "mean             1.18              6.89               1.73     9.90   \n",
       "std              0.61              5.30               1.31     4.33   \n",
       "min              1.00              1.00               0.00     1.00   \n",
       "25%              1.00              1.00               1.00     6.00   \n",
       "50%              1.00              8.00               1.00    10.00   \n",
       "75%              1.00             12.00               2.00    13.00   \n",
       "max              6.00             18.00               9.00    17.00   \n",
       "\n",
       "       Daytime/evening attendance  Previous qualification  Nacionality  \\\n",
       "count                     4424.00                 4424.00      4424.00   \n",
       "mean                         0.89                    2.53         1.25   \n",
       "std                          0.31                    3.96         1.75   \n",
       "min                          0.00                    1.00         1.00   \n",
       "25%                          1.00                    1.00         1.00   \n",
       "50%                          1.00                    1.00         1.00   \n",
       "75%                          1.00                    1.00         1.00   \n",
       "max                          1.00                   17.00        21.00   \n",
       "\n",
       "       Mother's qualification  Father's qualification  Mother's occupation  \\\n",
       "count                 4424.00                 4424.00              4424.00   \n",
       "mean                    12.32                   16.46                 7.32   \n",
       "std                      9.03                   11.04                 4.00   \n",
       "min                      1.00                    1.00                 1.00   \n",
       "25%                      2.00                    3.00                 5.00   \n",
       "50%                     13.00                   14.00                 6.00   \n",
       "75%                     22.00                   27.00                10.00   \n",
       "max                     29.00                   34.00                32.00   \n",
       "\n",
       "       ...  Curricular units 1st sem (without evaluations)  \\\n",
       "count  ...                                         4424.00   \n",
       "mean   ...                                            0.14   \n",
       "std    ...                                            0.69   \n",
       "min    ...                                            0.00   \n",
       "25%    ...                                            0.00   \n",
       "50%    ...                                            0.00   \n",
       "75%    ...                                            0.00   \n",
       "max    ...                                           12.00   \n",
       "\n",
       "       Curricular units 2nd sem (credited)  \\\n",
       "count                              4424.00   \n",
       "mean                                  0.54   \n",
       "std                                   1.92   \n",
       "min                                   0.00   \n",
       "25%                                   0.00   \n",
       "50%                                   0.00   \n",
       "75%                                   0.00   \n",
       "max                                  19.00   \n",
       "\n",
       "       Curricular units 2nd sem (enrolled)  \\\n",
       "count                              4424.00   \n",
       "mean                                  6.23   \n",
       "std                                   2.20   \n",
       "min                                   0.00   \n",
       "25%                                   5.00   \n",
       "50%                                   6.00   \n",
       "75%                                   7.00   \n",
       "max                                  23.00   \n",
       "\n",
       "       Curricular units 2nd sem (evaluations)  \\\n",
       "count                                 4424.00   \n",
       "mean                                     8.06   \n",
       "std                                      3.95   \n",
       "min                                      0.00   \n",
       "25%                                      6.00   \n",
       "50%                                      8.00   \n",
       "75%                                     10.00   \n",
       "max                                     33.00   \n",
       "\n",
       "       Curricular units 2nd sem (approved)  Curricular units 2nd sem (grade)  \\\n",
       "count                              4424.00                           4424.00   \n",
       "mean                                  4.44                             10.23   \n",
       "std                                   3.01                              5.21   \n",
       "min                                   0.00                              0.00   \n",
       "25%                                   2.00                             10.75   \n",
       "50%                                   5.00                             12.20   \n",
       "75%                                   6.00                             13.33   \n",
       "max                                  20.00                             18.57   \n",
       "\n",
       "       Curricular units 2nd sem (without evaluations)  Unemployment rate  \\\n",
       "count                                         4424.00            4424.00   \n",
       "mean                                             0.15              11.57   \n",
       "std                                              0.75               2.66   \n",
       "min                                              0.00               7.60   \n",
       "25%                                              0.00               9.40   \n",
       "50%                                              0.00              11.10   \n",
       "75%                                              0.00              13.90   \n",
       "max                                             12.00              16.20   \n",
       "\n",
       "       Inflation rate       GDP  \n",
       "count         4424.00  4.42e+03  \n",
       "mean             1.23  1.97e-03  \n",
       "std              1.38  2.27e+00  \n",
       "min             -0.80 -4.06e+00  \n",
       "25%              0.30 -1.70e+00  \n",
       "50%              1.40  3.20e-01  \n",
       "75%              2.60  1.79e+00  \n",
       "max              3.70  3.51e+00  \n",
       "\n",
       "[8 rows x 34 columns]"
      ]
     },
     "execution_count": 6,
     "metadata": {},
     "output_type": "execute_result"
    }
   ],
   "source": [
    "from pandas.io.formats.format import set_option\n",
    "set_option('display.precision',2)\n",
    "df.describe()"
   ]
  },
  {
   "cell_type": "code",
   "execution_count": 7,
   "id": "c9e56dcc",
   "metadata": {
    "execution": {
     "iopub.execute_input": "2023-07-28T10:04:29.455235Z",
     "iopub.status.busy": "2023-07-28T10:04:29.454879Z",
     "iopub.status.idle": "2023-07-28T10:04:29.459476Z",
     "shell.execute_reply": "2023-07-28T10:04:29.458607Z"
    },
    "papermill": {
     "duration": 0.019005,
     "end_time": "2023-07-28T10:04:29.461209",
     "exception": false,
     "start_time": "2023-07-28T10:04:29.442204",
     "status": "completed"
    },
    "tags": []
   },
   "outputs": [],
   "source": [
    "# # finding correlations between attributes\n",
    "# # Computing the correlation matrix\n",
    "# corr = df.corr(numeric_only=True)\n",
    "\n",
    "# # Setting up the matplotlib figure\n",
    "# fig, ax = plt.subplots(figsize=(50, 45))\n",
    "\n",
    "# # Drawing the heatmap\n",
    "# sns.heatmap(corr, cmap='coolwarm', annot=True, square=True)\n",
    "\n",
    "# plt.title(\"Correlation Heatmap between Features\")\n",
    "# plt.show()\n"
   ]
  },
  {
   "cell_type": "code",
   "execution_count": 8,
   "id": "3964d1fa",
   "metadata": {
    "execution": {
     "iopub.execute_input": "2023-07-28T10:04:29.486971Z",
     "iopub.status.busy": "2023-07-28T10:04:29.486596Z",
     "iopub.status.idle": "2023-07-28T10:04:39.373413Z",
     "shell.execute_reply": "2023-07-28T10:04:39.372409Z"
    },
    "papermill": {
     "duration": 9.903387,
     "end_time": "2023-07-28T10:04:39.376902",
     "exception": false,
     "start_time": "2023-07-28T10:04:29.473515",
     "status": "completed"
    },
    "tags": []
   },
   "outputs": [
    {
     "data": {
      "image/png": "[encoded data removed]",
      "text/plain": [
       "<Figure size 4000x3500 with 36 Axes>"
      ]
     },
     "metadata": {},
     "output_type": "display_data"
    }
   ],
   "source": [
    "\n",
    "##histogram - visual representation\n",
    "sns.set_theme(style = 'darkgrid')\n",
    "df.hist(bins=10, figsize=(40, 35), grid=True, legend=None);"
   ]
  },
  {
   "cell_type": "code",
   "execution_count": 9,
   "id": "370a5f85",
   "metadata": {
    "execution": {
     "iopub.execute_input": "2023-07-28T10:04:39.410503Z",
     "iopub.status.busy": "2023-07-28T10:04:39.410001Z",
     "iopub.status.idle": "2023-07-28T10:04:39.482252Z",
     "shell.execute_reply": "2023-07-28T10:04:39.481161Z"
    },
    "papermill": {
     "duration": 0.091251,
     "end_time": "2023-07-28T10:04:39.484115",
     "exception": false,
     "start_time": "2023-07-28T10:04:39.392864",
     "status": "completed"
    },
    "tags": []
   },
   "outputs": [
    {
     "data": {
      "text/plain": [
       "Marital status                                    NaN\n",
       "Application mode                                  NaN\n",
       "Application order                                 NaN\n",
       "Course                                            NaN\n",
       "Daytime/evening attendance                        NaN\n",
       "Previous qualification                            NaN\n",
       "Nacionality                                       NaN\n",
       "Mother's qualification                            NaN\n",
       "Father's qualification                            NaN\n",
       "Mother's occupation                               NaN\n",
       "Father's occupation                               NaN\n",
       "Displaced                                         NaN\n",
       "Educational special needs                         NaN\n",
       "Debtor                                            NaN\n",
       "Tuition fees up to date                           NaN\n",
       "Gender                                            NaN\n",
       "Scholarship holder                                NaN\n",
       "Age at enrollment                                 NaN\n",
       "International                                     NaN\n",
       "Curricular units 1st sem (credited)               NaN\n",
       "Curricular units 1st sem (enrolled)               NaN\n",
       "Curricular units 1st sem (evaluations)            NaN\n",
       "Curricular units 1st sem (approved)               NaN\n",
       "Curricular units 1st sem (grade)                  NaN\n",
       "Curricular units 1st sem (without evaluations)    NaN\n",
       "Curricular units 2nd sem (credited)               NaN\n",
       "Curricular units 2nd sem (enrolled)               NaN\n",
       "Curricular units 2nd sem (evaluations)            NaN\n",
       "Curricular units 2nd sem (approved)               NaN\n",
       "Curricular units 2nd sem (grade)                  NaN\n",
       "Curricular units 2nd sem (without evaluations)    NaN\n",
       "Unemployment rate                                 NaN\n",
       "Inflation rate                                    NaN\n",
       "GDP                                               NaN\n",
       "Target                                              3\n",
       "Name: unique, dtype: object"
      ]
     },
     "execution_count": 9,
     "metadata": {},
     "output_type": "execute_result"
    }
   ],
   "source": [
    "\n",
    "df.describe(include='all').loc['unique', :]\n",
    "     "
   ]
  },
  {
   "cell_type": "markdown",
   "id": "7d97e720",
   "metadata": {
    "papermill": {
     "duration": 0.015598,
     "end_time": "2023-07-28T10:04:39.515608",
     "exception": false,
     "start_time": "2023-07-28T10:04:39.500010",
     "status": "completed"
    },
    "tags": []
   },
   "source": [
    "# Genderwise no of students counting"
   ]
  },
  {
   "cell_type": "code",
   "execution_count": 10,
   "id": "988a42d1",
   "metadata": {
    "execution": {
     "iopub.execute_input": "2023-07-28T10:04:39.548399Z",
     "iopub.status.busy": "2023-07-28T10:04:39.548076Z",
     "iopub.status.idle": "2023-07-28T10:04:39.756015Z",
     "shell.execute_reply": "2023-07-28T10:04:39.754605Z"
    },
    "papermill": {
     "duration": 0.226586,
     "end_time": "2023-07-28T10:04:39.757937",
     "exception": false,
     "start_time": "2023-07-28T10:04:39.531351",
     "status": "completed"
    },
    "tags": []
   },
   "outputs": [
    {
     "data": {
      "image/png": "[encoded data removed]",
      "text/plain": [
       "<Figure size 640x480 with 1 Axes>"
      ]
     },
     "metadata": {},
     "output_type": "display_data"
    }
   ],
   "source": [
    "sns.countplot(data=df, x='Gender', hue='Target', hue_order=['Dropout', 'Enrolled', 'Graduate'])\n",
    "plt.xticks(ticks=[0,1], labels=['Female','Male'])\n",
    "plt.ylabel('Number of Students')\n",
    "plt.show()"
   ]
  },
  {
   "cell_type": "code",
   "execution_count": 11,
   "id": "34523610",
   "metadata": {
    "execution": {
     "iopub.execute_input": "2023-07-28T10:04:39.792325Z",
     "iopub.status.busy": "2023-07-28T10:04:39.791977Z",
     "iopub.status.idle": "2023-07-28T10:04:39.800262Z",
     "shell.execute_reply": "2023-07-28T10:04:39.798967Z"
    },
    "papermill": {
     "duration": 0.027802,
     "end_time": "2023-07-28T10:04:39.802235",
     "exception": false,
     "start_time": "2023-07-28T10:04:39.774433",
     "status": "completed"
    },
    "tags": []
   },
   "outputs": [
    {
     "data": {
      "text/plain": [
       "(4424, 35)"
      ]
     },
     "execution_count": 11,
     "metadata": {},
     "output_type": "execute_result"
    }
   ],
   "source": [
    "s_df=df.copy()\n",
    "s_df.shape"
   ]
  },
  {
   "cell_type": "code",
   "execution_count": 12,
   "id": "9dd26e57",
   "metadata": {
    "execution": {
     "iopub.execute_input": "2023-07-28T10:04:39.836488Z",
     "iopub.status.busy": "2023-07-28T10:04:39.836131Z",
     "iopub.status.idle": "2023-07-28T10:04:39.844302Z",
     "shell.execute_reply": "2023-07-28T10:04:39.843019Z"
    },
    "papermill": {
     "duration": 0.027282,
     "end_time": "2023-07-28T10:04:39.846141",
     "exception": false,
     "start_time": "2023-07-28T10:04:39.818859",
     "status": "completed"
    },
    "tags": []
   },
   "outputs": [
    {
     "data": {
      "text/plain": [
       "1    3919\n",
       "2     379\n",
       "4      91\n",
       "5      25\n",
       "6       6\n",
       "3       4\n",
       "Name: Marital status, dtype: int64"
      ]
     },
     "execution_count": 12,
     "metadata": {},
     "output_type": "execute_result"
    }
   ],
   "source": [
    "df.loc[:,'Marital status'].value_counts()"
   ]
  },
  {
   "cell_type": "code",
   "execution_count": 13,
   "id": "8c29b91b",
   "metadata": {
    "execution": {
     "iopub.execute_input": "2023-07-28T10:04:39.879291Z",
     "iopub.status.busy": "2023-07-28T10:04:39.878940Z",
     "iopub.status.idle": "2023-07-28T10:04:39.887681Z",
     "shell.execute_reply": "2023-07-28T10:04:39.886251Z"
    },
    "papermill": {
     "duration": 0.027445,
     "end_time": "2023-07-28T10:04:39.889513",
     "exception": false,
     "start_time": "2023-07-28T10:04:39.862068",
     "status": "completed"
    },
    "tags": []
   },
   "outputs": [
    {
     "data": {
      "text/plain": [
       "1     1708\n",
       "8      872\n",
       "12     785\n",
       "14     312\n",
       "15     213\n",
       "4      139\n",
       "9      124\n",
       "13      77\n",
       "16      59\n",
       "7       38\n",
       "17      35\n",
       "6       30\n",
       "3       16\n",
       "5       10\n",
       "2        3\n",
       "18       1\n",
       "10       1\n",
       "11       1\n",
       "Name: Application mode, dtype: int64"
      ]
     },
     "execution_count": 13,
     "metadata": {},
     "output_type": "execute_result"
    }
   ],
   "source": [
    "df.loc[:,'Application mode'].value_counts()"
   ]
  },
  {
   "cell_type": "code",
   "execution_count": 14,
   "id": "b885180f",
   "metadata": {
    "execution": {
     "iopub.execute_input": "2023-07-28T10:04:39.923292Z",
     "iopub.status.busy": "2023-07-28T10:04:39.922956Z",
     "iopub.status.idle": "2023-07-28T10:04:39.931696Z",
     "shell.execute_reply": "2023-07-28T10:04:39.930543Z"
    },
    "papermill": {
     "duration": 0.027577,
     "end_time": "2023-07-28T10:04:39.933671",
     "exception": false,
     "start_time": "2023-07-28T10:04:39.906094",
     "status": "completed"
    },
    "tags": []
   },
   "outputs": [
    {
     "data": {
      "text/plain": [
       "1    3026\n",
       "2     547\n",
       "3     309\n",
       "4     249\n",
       "5     154\n",
       "6     137\n",
       "9       1\n",
       "0       1\n",
       "Name: Application order, dtype: int64"
      ]
     },
     "execution_count": 14,
     "metadata": {},
     "output_type": "execute_result"
    }
   ],
   "source": [
    "\n",
    "df.loc[:,'Application order'].value_counts()"
   ]
  },
  {
   "cell_type": "code",
   "execution_count": 15,
   "id": "42b9085f",
   "metadata": {
    "execution": {
     "iopub.execute_input": "2023-07-28T10:04:39.967198Z",
     "iopub.status.busy": "2023-07-28T10:04:39.966859Z",
     "iopub.status.idle": "2023-07-28T10:04:39.974756Z",
     "shell.execute_reply": "2023-07-28T10:04:39.973796Z"
    },
    "papermill": {
     "duration": 0.026829,
     "end_time": "2023-07-28T10:04:39.976836",
     "exception": false,
     "start_time": "2023-07-28T10:04:39.950007",
     "status": "completed"
    },
    "tags": []
   },
   "outputs": [
    {
     "data": {
      "text/plain": [
       "12    766\n",
       "9     380\n",
       "10    355\n",
       "6     337\n",
       "15    331\n",
       "14    268\n",
       "17    268\n",
       "11    252\n",
       "5     226\n",
       "2     215\n",
       "3     215\n",
       "4     210\n",
       "16    192\n",
       "7     170\n",
       "8     141\n",
       "13     86\n",
       "1      12\n",
       "Name: Course, dtype: int64"
      ]
     },
     "execution_count": 15,
     "metadata": {},
     "output_type": "execute_result"
    }
   ],
   "source": [
    "df.loc[:,'Course'].value_counts()"
   ]
  },
  {
   "cell_type": "code",
   "execution_count": 16,
   "id": "1b993662",
   "metadata": {
    "execution": {
     "iopub.execute_input": "2023-07-28T10:04:40.011508Z",
     "iopub.status.busy": "2023-07-28T10:04:40.011141Z",
     "iopub.status.idle": "2023-07-28T10:04:40.019027Z",
     "shell.execute_reply": "2023-07-28T10:04:40.018125Z"
    },
    "papermill": {
     "duration": 0.027236,
     "end_time": "2023-07-28T10:04:40.020769",
     "exception": false,
     "start_time": "2023-07-28T10:04:39.993533",
     "status": "completed"
    },
    "tags": []
   },
   "outputs": [
    {
     "data": {
      "text/plain": [
       "1    3941\n",
       "0     483\n",
       "Name: Daytime/evening attendance, dtype: int64"
      ]
     },
     "execution_count": 16,
     "metadata": {},
     "output_type": "execute_result"
    }
   ],
   "source": [
    "df.loc[:,'Daytime/evening attendance'].value_counts()"
   ]
  },
  {
   "cell_type": "code",
   "execution_count": 17,
   "id": "cf3fb0dd",
   "metadata": {
    "execution": {
     "iopub.execute_input": "2023-07-28T10:04:40.055544Z",
     "iopub.status.busy": "2023-07-28T10:04:40.055205Z",
     "iopub.status.idle": "2023-07-28T10:04:40.063798Z",
     "shell.execute_reply": "2023-07-28T10:04:40.062476Z"
    },
    "papermill": {
     "duration": 0.028341,
     "end_time": "2023-07-28T10:04:40.065754",
     "exception": false,
     "start_time": "2023-07-28T10:04:40.037413",
     "status": "completed"
    },
    "tags": []
   },
   "outputs": [
    {
     "data": {
      "text/plain": [
       "1     3717\n",
       "14     219\n",
       "12     162\n",
       "3      126\n",
       "9       45\n",
       "15      40\n",
       "16      36\n",
       "2       23\n",
       "6       16\n",
       "7       11\n",
       "4        8\n",
       "13       7\n",
       "17       6\n",
       "8        4\n",
       "11       2\n",
       "5        1\n",
       "10       1\n",
       "Name: Previous qualification, dtype: int64"
      ]
     },
     "execution_count": 17,
     "metadata": {},
     "output_type": "execute_result"
    }
   ],
   "source": [
    "df.loc[:,'Previous qualification'].value_counts()"
   ]
  },
  {
   "cell_type": "code",
   "execution_count": 18,
   "id": "938d3bba",
   "metadata": {
    "execution": {
     "iopub.execute_input": "2023-07-28T10:04:40.102474Z",
     "iopub.status.busy": "2023-07-28T10:04:40.102147Z",
     "iopub.status.idle": "2023-07-28T10:04:40.110396Z",
     "shell.execute_reply": "2023-07-28T10:04:40.109494Z"
    },
    "papermill": {
     "duration": 0.029471,
     "end_time": "2023-07-28T10:04:40.112063",
     "exception": false,
     "start_time": "2023-07-28T10:04:40.082592",
     "status": "completed"
    },
    "tags": []
   },
   "outputs": [
    {
     "data": {
      "text/plain": [
       "1     4314\n",
       "14      38\n",
       "12      14\n",
       "9       13\n",
       "3       13\n",
       "10       5\n",
       "16       3\n",
       "4        3\n",
       "18       3\n",
       "8        2\n",
       "17       2\n",
       "15       2\n",
       "11       2\n",
       "2        2\n",
       "19       2\n",
       "13       1\n",
       "5        1\n",
       "21       1\n",
       "20       1\n",
       "6        1\n",
       "7        1\n",
       "Name: Nacionality, dtype: int64"
      ]
     },
     "execution_count": 18,
     "metadata": {},
     "output_type": "execute_result"
    }
   ],
   "source": [
    "df.loc[:,'Nacionality'].value_counts()"
   ]
  },
  {
   "cell_type": "code",
   "execution_count": 19,
   "id": "9dfb1fc0",
   "metadata": {
    "execution": {
     "iopub.execute_input": "2023-07-28T10:04:40.147037Z",
     "iopub.status.busy": "2023-07-28T10:04:40.146705Z",
     "iopub.status.idle": "2023-07-28T10:04:40.155282Z",
     "shell.execute_reply": "2023-07-28T10:04:40.154140Z"
    },
    "papermill": {
     "duration": 0.028322,
     "end_time": "2023-07-28T10:04:40.157116",
     "exception": false,
     "start_time": "2023-07-28T10:04:40.128794",
     "status": "completed"
    },
    "tags": []
   },
   "outputs": [
    {
     "data": {
      "text/plain": [
       "1     1069\n",
       "22    1009\n",
       "13     953\n",
       "23     562\n",
       "3      438\n",
       "19     130\n",
       "2       83\n",
       "4       49\n",
       "10      42\n",
       "5       21\n",
       "25       9\n",
       "7        8\n",
       "24       8\n",
       "26       6\n",
       "6        4\n",
       "27       4\n",
       "28       4\n",
       "17       3\n",
       "8        3\n",
       "9        3\n",
       "21       3\n",
       "20       3\n",
       "18       3\n",
       "11       2\n",
       "12       1\n",
       "14       1\n",
       "16       1\n",
       "15       1\n",
       "29       1\n",
       "Name: Mother's qualification, dtype: int64"
      ]
     },
     "execution_count": 19,
     "metadata": {},
     "output_type": "execute_result"
    }
   ],
   "source": [
    "df.loc[:,\"Mother's qualification\"].value_counts()"
   ]
  },
  {
   "cell_type": "code",
   "execution_count": 20,
   "id": "781226d2",
   "metadata": {
    "execution": {
     "iopub.execute_input": "2023-07-28T10:04:40.192322Z",
     "iopub.status.busy": "2023-07-28T10:04:40.192010Z",
     "iopub.status.idle": "2023-07-28T10:04:40.199146Z",
     "shell.execute_reply": "2023-07-28T10:04:40.198176Z"
    },
    "papermill": {
     "duration": 0.026479,
     "end_time": "2023-07-28T10:04:40.200623",
     "exception": false,
     "start_time": "2023-07-28T10:04:40.174144",
     "status": "completed"
    },
    "tags": []
   },
   "outputs": [
    {
     "data": {
      "text/plain": [
       "27    1209\n",
       "14     968\n",
       "1      904\n",
       "28     702\n",
       "3      282\n",
       "24     112\n",
       "2       68\n",
       "4       39\n",
       "10      38\n",
       "29      20\n",
       "5       18\n",
       "9       10\n",
       "26       8\n",
       "7        5\n",
       "30       5\n",
       "16       4\n",
       "21       4\n",
       "12       4\n",
       "20       3\n",
       "25       2\n",
       "31       2\n",
       "33       2\n",
       "8        2\n",
       "6        2\n",
       "18       2\n",
       "17       1\n",
       "19       1\n",
       "23       1\n",
       "34       1\n",
       "15       1\n",
       "32       1\n",
       "13       1\n",
       "11       1\n",
       "22       1\n",
       "Name: Father's qualification, dtype: int64"
      ]
     },
     "execution_count": 20,
     "metadata": {},
     "output_type": "execute_result"
    }
   ],
   "source": [
    "df.loc[:,\"Father's qualification\"].value_counts()"
   ]
  },
  {
   "cell_type": "code",
   "execution_count": 21,
   "id": "b62fe51a",
   "metadata": {
    "execution": {
     "iopub.execute_input": "2023-07-28T10:04:40.235629Z",
     "iopub.status.busy": "2023-07-28T10:04:40.235279Z",
     "iopub.status.idle": "2023-07-28T10:04:40.242907Z",
     "shell.execute_reply": "2023-07-28T10:04:40.241789Z"
    },
    "papermill": {
     "duration": 0.027516,
     "end_time": "2023-07-28T10:04:40.244946",
     "exception": false,
     "start_time": "2023-07-28T10:04:40.217430",
     "status": "completed"
    },
    "tags": []
   },
   "outputs": [
    {
     "data": {
      "text/plain": [
       "0     3847\n",
       "2       94\n",
       "1       85\n",
       "3       69\n",
       "6       51\n",
       "4       47\n",
       "7       41\n",
       "5       41\n",
       "8       31\n",
       "9       27\n",
       "11      17\n",
       "10      15\n",
       "14      15\n",
       "13      13\n",
       "12      12\n",
       "15       5\n",
       "18       4\n",
       "17       3\n",
       "16       3\n",
       "19       2\n",
       "20       2\n",
       "Name: Curricular units 1st sem (credited), dtype: int64"
      ]
     },
     "execution_count": 21,
     "metadata": {},
     "output_type": "execute_result"
    }
   ],
   "source": [
    "\n",
    "df.loc[:,'Curricular units 1st sem (credited)'].value_counts()"
   ]
  },
  {
   "cell_type": "code",
   "execution_count": 22,
   "id": "7d8acd5f",
   "metadata": {
    "execution": {
     "iopub.execute_input": "2023-07-28T10:04:40.280972Z",
     "iopub.status.busy": "2023-07-28T10:04:40.280579Z",
     "iopub.status.idle": "2023-07-28T10:04:40.288551Z",
     "shell.execute_reply": "2023-07-28T10:04:40.287440Z"
    },
    "papermill": {
     "duration": 0.028542,
     "end_time": "2023-07-28T10:04:40.290665",
     "exception": false,
     "start_time": "2023-07-28T10:04:40.262123",
     "status": "completed"
    },
    "tags": []
   },
   "outputs": [
    {
     "data": {
      "text/plain": [
       "6     1910\n",
       "5     1010\n",
       "7      656\n",
       "8      296\n",
       "0      180\n",
       "12      66\n",
       "10      52\n",
       "11      45\n",
       "9       36\n",
       "15      25\n",
       "14      22\n",
       "4       21\n",
       "13      20\n",
       "18      19\n",
       "17      16\n",
       "16      13\n",
       "3       10\n",
       "2        9\n",
       "1        7\n",
       "21       6\n",
       "19       2\n",
       "23       2\n",
       "26       1\n",
       "Name: Curricular units 1st sem (enrolled), dtype: int64"
      ]
     },
     "execution_count": 22,
     "metadata": {},
     "output_type": "execute_result"
    }
   ],
   "source": [
    "df.loc[:,'Curricular units 1st sem (enrolled)'].value_counts()\n",
    "     "
   ]
  },
  {
   "cell_type": "code",
   "execution_count": 23,
   "id": "63d3bfb1",
   "metadata": {
    "execution": {
     "iopub.execute_input": "2023-07-28T10:04:40.327082Z",
     "iopub.status.busy": "2023-07-28T10:04:40.326716Z",
     "iopub.status.idle": "2023-07-28T10:04:40.335080Z",
     "shell.execute_reply": "2023-07-28T10:04:40.333795Z"
    },
    "papermill": {
     "duration": 0.028852,
     "end_time": "2023-07-28T10:04:40.336868",
     "exception": false,
     "start_time": "2023-07-28T10:04:40.308016",
     "status": "completed"
    },
    "tags": []
   },
   "outputs": [
    {
     "data": {
      "text/plain": [
       "8     791\n",
       "7     703\n",
       "6     598\n",
       "9     402\n",
       "0     349\n",
       "10    340\n",
       "11    239\n",
       "12    223\n",
       "5     220\n",
       "13    140\n",
       "14    105\n",
       "15     70\n",
       "16     47\n",
       "17     33\n",
       "18     30\n",
       "19     23\n",
       "4      19\n",
       "21     17\n",
       "20     12\n",
       "22     10\n",
       "23      9\n",
       "2       8\n",
       "3       6\n",
       "24      6\n",
       "1       6\n",
       "26      4\n",
       "25      3\n",
       "27      2\n",
       "29      2\n",
       "45      2\n",
       "32      1\n",
       "36      1\n",
       "31      1\n",
       "28      1\n",
       "33      1\n",
       "Name: Curricular units 1st sem (evaluations), dtype: int64"
      ]
     },
     "execution_count": 23,
     "metadata": {},
     "output_type": "execute_result"
    }
   ],
   "source": [
    "\n",
    "df.loc[:,'Curricular units 1st sem (evaluations)'].value_counts()"
   ]
  },
  {
   "cell_type": "code",
   "execution_count": 24,
   "id": "581ce1ab",
   "metadata": {
    "execution": {
     "iopub.execute_input": "2023-07-28T10:04:40.373476Z",
     "iopub.status.busy": "2023-07-28T10:04:40.373146Z",
     "iopub.status.idle": "2023-07-28T10:04:40.381631Z",
     "shell.execute_reply": "2023-07-28T10:04:40.380596Z"
    },
    "papermill": {
     "duration": 0.029245,
     "end_time": "2023-07-28T10:04:40.383603",
     "exception": false,
     "start_time": "2023-07-28T10:04:40.354358",
     "status": "completed"
    },
    "tags": []
   },
   "outputs": [
    {
     "data": {
      "text/plain": [
       "6     1171\n",
       "5      723\n",
       "0      718\n",
       "7      471\n",
       "4      433\n",
       "3      269\n",
       "2      160\n",
       "1      127\n",
       "8      108\n",
       "11      49\n",
       "12      44\n",
       "9       40\n",
       "13      26\n",
       "10      24\n",
       "18      15\n",
       "14      14\n",
       "17      10\n",
       "15       7\n",
       "16       5\n",
       "21       4\n",
       "20       3\n",
       "19       2\n",
       "26       1\n",
       "Name: Curricular units 1st sem (approved), dtype: int64"
      ]
     },
     "execution_count": 24,
     "metadata": {},
     "output_type": "execute_result"
    }
   ],
   "source": [
    "df.loc[:,'Curricular units 1st sem (approved)'].value_counts()\n",
    "     "
   ]
  },
  {
   "cell_type": "code",
   "execution_count": 25,
   "id": "d9011b98",
   "metadata": {
    "execution": {
     "iopub.execute_input": "2023-07-28T10:04:40.420784Z",
     "iopub.status.busy": "2023-07-28T10:04:40.420414Z",
     "iopub.status.idle": "2023-07-28T10:04:40.430500Z",
     "shell.execute_reply": "2023-07-28T10:04:40.429364Z"
    },
    "papermill": {
     "duration": 0.031021,
     "end_time": "2023-07-28T10:04:40.432369",
     "exception": false,
     "start_time": "2023-07-28T10:04:40.401348",
     "status": "completed"
    },
    "tags": []
   },
   "outputs": [
    {
     "data": {
      "text/plain": [
       "0.00     718\n",
       "12.00    205\n",
       "13.00    147\n",
       "11.00    138\n",
       "11.50     89\n",
       "        ... \n",
       "12.86      1\n",
       "13.04      1\n",
       "15.66      1\n",
       "13.33      1\n",
       "14.91      1\n",
       "Name: Curricular units 1st sem (grade), Length: 805, dtype: int64"
      ]
     },
     "execution_count": 25,
     "metadata": {},
     "output_type": "execute_result"
    }
   ],
   "source": [
    "df.loc[:,'Curricular units 1st sem (grade)'].value_counts()"
   ]
  },
  {
   "cell_type": "code",
   "execution_count": 26,
   "id": "4dc2721b",
   "metadata": {
    "execution": {
     "iopub.execute_input": "2023-07-28T10:04:40.468517Z",
     "iopub.status.busy": "2023-07-28T10:04:40.468191Z",
     "iopub.status.idle": "2023-07-28T10:04:40.476079Z",
     "shell.execute_reply": "2023-07-28T10:04:40.475144Z"
    },
    "papermill": {
     "duration": 0.028418,
     "end_time": "2023-07-28T10:04:40.478023",
     "exception": false,
     "start_time": "2023-07-28T10:04:40.449605",
     "status": "completed"
    },
    "tags": []
   },
   "outputs": [
    {
     "data": {
      "text/plain": [
       "0     4130\n",
       "1      153\n",
       "2       79\n",
       "3       23\n",
       "4       15\n",
       "6        6\n",
       "7        6\n",
       "5        5\n",
       "8        4\n",
       "12       2\n",
       "10       1\n",
       "Name: Curricular units 1st sem (without evaluations), dtype: int64"
      ]
     },
     "execution_count": 26,
     "metadata": {},
     "output_type": "execute_result"
    }
   ],
   "source": [
    "\n",
    "df.loc[:,'Curricular units 1st sem (without evaluations)'].value_counts()"
   ]
  },
  {
   "cell_type": "code",
   "execution_count": 27,
   "id": "7fb3b006",
   "metadata": {
    "execution": {
     "iopub.execute_input": "2023-07-28T10:04:40.514394Z",
     "iopub.status.busy": "2023-07-28T10:04:40.513842Z",
     "iopub.status.idle": "2023-07-28T10:04:40.521026Z",
     "shell.execute_reply": "2023-07-28T10:04:40.520201Z"
    },
    "papermill": {
     "duration": 0.0273,
     "end_time": "2023-07-28T10:04:40.523086",
     "exception": false,
     "start_time": "2023-07-28T10:04:40.495786",
     "status": "completed"
    },
    "tags": []
   },
   "outputs": [
    {
     "data": {
      "text/plain": [
       "0     3894\n",
       "1      107\n",
       "2       92\n",
       "4       78\n",
       "5       68\n",
       "3       49\n",
       "6       26\n",
       "11      20\n",
       "7       16\n",
       "9       15\n",
       "12      14\n",
       "10      13\n",
       "8       12\n",
       "13       9\n",
       "14       4\n",
       "15       2\n",
       "16       2\n",
       "18       2\n",
       "19       1\n",
       "Name: Curricular units 2nd sem (credited), dtype: int64"
      ]
     },
     "execution_count": 27,
     "metadata": {},
     "output_type": "execute_result"
    }
   ],
   "source": [
    "df.loc[:,'Curricular units 2nd sem (credited)'].value_counts()\n"
   ]
  },
  {
   "cell_type": "code",
   "execution_count": 28,
   "id": "518ac139",
   "metadata": {
    "execution": {
     "iopub.execute_input": "2023-07-28T10:04:40.560408Z",
     "iopub.status.busy": "2023-07-28T10:04:40.560079Z",
     "iopub.status.idle": "2023-07-28T10:04:40.568173Z",
     "shell.execute_reply": "2023-07-28T10:04:40.567075Z"
    },
    "papermill": {
     "duration": 0.02946,
     "end_time": "2023-07-28T10:04:40.570462",
     "exception": false,
     "start_time": "2023-07-28T10:04:40.541002",
     "status": "completed"
    },
    "tags": []
   },
   "outputs": [
    {
     "data": {
      "text/plain": [
       "6     1913\n",
       "5     1054\n",
       "8      661\n",
       "7      304\n",
       "0      180\n",
       "11      60\n",
       "9       50\n",
       "10      48\n",
       "12      44\n",
       "13      37\n",
       "14      22\n",
       "4       17\n",
       "17      12\n",
       "2        5\n",
       "19       3\n",
       "3        3\n",
       "1        3\n",
       "15       2\n",
       "23       2\n",
       "18       2\n",
       "16       1\n",
       "21       1\n",
       "Name: Curricular units 2nd sem (enrolled), dtype: int64"
      ]
     },
     "execution_count": 28,
     "metadata": {},
     "output_type": "execute_result"
    }
   ],
   "source": [
    "df.loc[:,'Curricular units 2nd sem (enrolled)'].value_counts()\n"
   ]
  },
  {
   "cell_type": "code",
   "execution_count": 29,
   "id": "5f56793c",
   "metadata": {
    "execution": {
     "iopub.execute_input": "2023-07-28T10:04:40.608291Z",
     "iopub.status.busy": "2023-07-28T10:04:40.607760Z",
     "iopub.status.idle": "2023-07-28T10:04:40.615119Z",
     "shell.execute_reply": "2023-07-28T10:04:40.614255Z"
    },
    "papermill": {
     "duration": 0.027954,
     "end_time": "2023-07-28T10:04:40.616799",
     "exception": false,
     "start_time": "2023-07-28T10:04:40.588845",
     "status": "completed"
    },
    "tags": []
   },
   "outputs": [
    {
     "data": {
      "text/plain": [
       "8     792\n",
       "6     614\n",
       "7     563\n",
       "9     456\n",
       "0     401\n",
       "10    355\n",
       "5     288\n",
       "11    255\n",
       "12    226\n",
       "13    126\n",
       "14     98\n",
       "15     73\n",
       "16     49\n",
       "17     25\n",
       "18     22\n",
       "19     19\n",
       "4      10\n",
       "21     10\n",
       "22     10\n",
       "20      8\n",
       "2       4\n",
       "23      4\n",
       "26      3\n",
       "24      3\n",
       "1       3\n",
       "3       2\n",
       "27      2\n",
       "28      1\n",
       "25      1\n",
       "33      1\n",
       "Name: Curricular units 2nd sem (evaluations), dtype: int64"
      ]
     },
     "execution_count": 29,
     "metadata": {},
     "output_type": "execute_result"
    }
   ],
   "source": [
    "df.loc[:,'Curricular units 2nd sem (evaluations)'].value_counts()\n"
   ]
  },
  {
   "cell_type": "code",
   "execution_count": 30,
   "id": "a415e642",
   "metadata": {
    "execution": {
     "iopub.execute_input": "2023-07-28T10:04:40.653849Z",
     "iopub.status.busy": "2023-07-28T10:04:40.653294Z",
     "iopub.status.idle": "2023-07-28T10:04:40.660055Z",
     "shell.execute_reply": "2023-07-28T10:04:40.659412Z"
    },
    "papermill": {
     "duration": 0.026999,
     "end_time": "2023-07-28T10:04:40.661613",
     "exception": false,
     "start_time": "2023-07-28T10:04:40.634614",
     "status": "completed"
    },
    "tags": []
   },
   "outputs": [
    {
     "data": {
      "text/plain": [
       "6     965\n",
       "0     870\n",
       "5     726\n",
       "4     414\n",
       "7     331\n",
       "8     321\n",
       "3     285\n",
       "2     198\n",
       "1     114\n",
       "11     48\n",
       "10     38\n",
       "9      36\n",
       "12     34\n",
       "13     21\n",
       "17      8\n",
       "14      6\n",
       "19      3\n",
       "20      2\n",
       "16      2\n",
       "18      2\n",
       "Name: Curricular units 2nd sem (approved), dtype: int64"
      ]
     },
     "execution_count": 30,
     "metadata": {},
     "output_type": "execute_result"
    }
   ],
   "source": [
    "df.loc[:,'Curricular units 2nd sem (approved)'].value_counts()\n"
   ]
  },
  {
   "cell_type": "code",
   "execution_count": 31,
   "id": "9c409260",
   "metadata": {
    "execution": {
     "iopub.execute_input": "2023-07-28T10:04:40.699083Z",
     "iopub.status.busy": "2023-07-28T10:04:40.698591Z",
     "iopub.status.idle": "2023-07-28T10:04:40.706065Z",
     "shell.execute_reply": "2023-07-28T10:04:40.705385Z"
    },
    "papermill": {
     "duration": 0.028428,
     "end_time": "2023-07-28T10:04:40.707691",
     "exception": false,
     "start_time": "2023-07-28T10:04:40.679263",
     "status": "completed"
    },
    "tags": []
   },
   "outputs": [
    {
     "data": {
      "text/plain": [
       "0.00     870\n",
       "12.00    170\n",
       "11.00    165\n",
       "13.00    150\n",
       "11.50     86\n",
       "        ... \n",
       "14.62      1\n",
       "13.99      1\n",
       "11.69      1\n",
       "15.66      1\n",
       "11.08      1\n",
       "Name: Curricular units 2nd sem (grade), Length: 786, dtype: int64"
      ]
     },
     "execution_count": 31,
     "metadata": {},
     "output_type": "execute_result"
    }
   ],
   "source": [
    "df.loc[:,'Curricular units 2nd sem (grade)'].value_counts()\n"
   ]
  },
  {
   "cell_type": "code",
   "execution_count": 32,
   "id": "86f96e5c",
   "metadata": {
    "execution": {
     "iopub.execute_input": "2023-07-28T10:04:40.746395Z",
     "iopub.status.busy": "2023-07-28T10:04:40.746077Z",
     "iopub.status.idle": "2023-07-28T10:04:40.754257Z",
     "shell.execute_reply": "2023-07-28T10:04:40.753206Z"
    },
    "papermill": {
     "duration": 0.030346,
     "end_time": "2023-07-28T10:04:40.756133",
     "exception": false,
     "start_time": "2023-07-28T10:04:40.725787",
     "status": "completed"
    },
    "tags": []
   },
   "outputs": [
    {
     "data": {
      "text/plain": [
       "0     4142\n",
       "1      140\n",
       "2       48\n",
       "3       35\n",
       "4       21\n",
       "5       17\n",
       "6        8\n",
       "8        6\n",
       "7        5\n",
       "12       2\n",
       "Name: Curricular units 2nd sem (without evaluations), dtype: int64"
      ]
     },
     "execution_count": 32,
     "metadata": {},
     "output_type": "execute_result"
    }
   ],
   "source": [
    "df.loc[:,'Curricular units 2nd sem (without evaluations)'].value_counts()\n"
   ]
  },
  {
   "cell_type": "code",
   "execution_count": 33,
   "id": "3edaa9d9",
   "metadata": {
    "execution": {
     "iopub.execute_input": "2023-07-28T10:04:40.793866Z",
     "iopub.status.busy": "2023-07-28T10:04:40.793485Z",
     "iopub.status.idle": "2023-07-28T10:04:40.801256Z",
     "shell.execute_reply": "2023-07-28T10:04:40.800547Z"
    },
    "papermill": {
     "duration": 0.028648,
     "end_time": "2023-07-28T10:04:40.802716",
     "exception": false,
     "start_time": "2023-07-28T10:04:40.774068",
     "status": "completed"
    },
    "tags": []
   },
   "outputs": [
    {
     "data": {
      "text/plain": [
       "7.6     571\n",
       "9.4     533\n",
       "10.8    525\n",
       "12.4    445\n",
       "12.7    419\n",
       "11.1    414\n",
       "15.5    397\n",
       "13.9    390\n",
       "8.9     368\n",
       "16.2    362\n",
       "Name: Unemployment rate, dtype: int64"
      ]
     },
     "execution_count": 33,
     "metadata": {},
     "output_type": "execute_result"
    }
   ],
   "source": [
    "df.loc[:,'Unemployment rate'].value_counts()\n"
   ]
  },
  {
   "cell_type": "code",
   "execution_count": 34,
   "id": "a3ce4429",
   "metadata": {
    "execution": {
     "iopub.execute_input": "2023-07-28T10:04:40.841495Z",
     "iopub.status.busy": "2023-07-28T10:04:40.840885Z",
     "iopub.status.idle": "2023-07-28T10:04:40.848221Z",
     "shell.execute_reply": "2023-07-28T10:04:40.847303Z"
    },
    "papermill": {
     "duration": 0.029147,
     "end_time": "2023-07-28T10:04:40.850408",
     "exception": false,
     "start_time": "2023-07-28T10:04:40.821261",
     "status": "completed"
    },
    "tags": []
   },
   "outputs": [
    {
     "data": {
      "text/plain": [
       " 1.4    893\n",
       " 2.6    571\n",
       "-0.8    533\n",
       " 0.5    445\n",
       " 3.7    419\n",
       " 0.6    414\n",
       " 2.8    397\n",
       "-0.3    390\n",
       " 0.3    362\n",
       "Name: Inflation rate, dtype: int64"
      ]
     },
     "execution_count": 34,
     "metadata": {},
     "output_type": "execute_result"
    }
   ],
   "source": [
    "df.loc[:,'Inflation rate'].value_counts()\n"
   ]
  },
  {
   "cell_type": "code",
   "execution_count": 35,
   "id": "a5c90072",
   "metadata": {
    "execution": {
     "iopub.execute_input": "2023-07-28T10:04:40.889270Z",
     "iopub.status.busy": "2023-07-28T10:04:40.888899Z",
     "iopub.status.idle": "2023-07-28T10:04:40.897345Z",
     "shell.execute_reply": "2023-07-28T10:04:40.896702Z"
    },
    "papermill": {
     "duration": 0.029362,
     "end_time": "2023-07-28T10:04:40.898933",
     "exception": false,
     "start_time": "2023-07-28T10:04:40.869571",
     "status": "completed"
    },
    "tags": []
   },
   "outputs": [
    {
     "data": {
      "text/plain": [
       " 0.32    571\n",
       "-3.12    533\n",
       " 1.74    525\n",
       " 1.79    445\n",
       "-1.70    419\n",
       " 2.02    414\n",
       "-4.06    397\n",
       " 0.79    390\n",
       " 3.51    368\n",
       "-0.92    362\n",
       "Name: GDP, dtype: int64"
      ]
     },
     "execution_count": 35,
     "metadata": {},
     "output_type": "execute_result"
    }
   ],
   "source": [
    "df.loc[:,'GDP'].value_counts()\n"
   ]
  },
  {
   "cell_type": "markdown",
   "id": "5cf43b26",
   "metadata": {
    "papermill": {
     "duration": 0.018148,
     "end_time": "2023-07-28T10:04:40.935903",
     "exception": false,
     "start_time": "2023-07-28T10:04:40.917755",
     "status": "completed"
    },
    "tags": []
   },
   "source": [
    "# labelencoding"
   ]
  },
  {
   "cell_type": "code",
   "execution_count": 36,
   "id": "c7b37cf1",
   "metadata": {
    "execution": {
     "iopub.execute_input": "2023-07-28T10:04:40.974232Z",
     "iopub.status.busy": "2023-07-28T10:04:40.973580Z",
     "iopub.status.idle": "2023-07-28T10:04:40.983434Z",
     "shell.execute_reply": "2023-07-28T10:04:40.982081Z"
    },
    "papermill": {
     "duration": 0.031191,
     "end_time": "2023-07-28T10:04:40.985505",
     "exception": false,
     "start_time": "2023-07-28T10:04:40.954314",
     "status": "completed"
    },
    "tags": []
   },
   "outputs": [
    {
     "data": {
      "text/plain": [
       "2    2209\n",
       "0    1421\n",
       "1     794\n",
       "Name: Target, dtype: int64"
      ]
     },
     "execution_count": 36,
     "metadata": {},
     "output_type": "execute_result"
    }
   ],
   "source": [
    "s_df['Target'] = LabelEncoder().fit_transform(s_df['Target'])\n",
    "s_df.loc[:,'Target'].value_counts()\n"
   ]
  },
  {
   "cell_type": "markdown",
   "id": "67996649",
   "metadata": {
    "papermill": {
     "duration": 0.018088,
     "end_time": "2023-07-28T10:04:41.022277",
     "exception": false,
     "start_time": "2023-07-28T10:04:41.004189",
     "status": "completed"
    },
    "tags": []
   },
   "source": [
    "# identifying outliers"
   ]
  },
  {
   "cell_type": "code",
   "execution_count": 37,
   "id": "8fb32305",
   "metadata": {
    "execution": {
     "iopub.execute_input": "2023-07-28T10:04:41.062515Z",
     "iopub.status.busy": "2023-07-28T10:04:41.061896Z",
     "iopub.status.idle": "2023-07-28T10:04:41.080774Z",
     "shell.execute_reply": "2023-07-28T10:04:41.079682Z"
    },
    "papermill": {
     "duration": 0.040977,
     "end_time": "2023-07-28T10:04:41.082726",
     "exception": false,
     "start_time": "2023-07-28T10:04:41.041749",
     "status": "completed"
    },
    "tags": []
   },
   "outputs": [
    {
     "data": {
      "text/plain": [
       "(array([   5,    5,    8, ..., 4420, 4423, 4423]),\n",
       " array([17, 30,  6, ..., 18,  6, 18]))"
      ]
     },
     "execution_count": 37,
     "metadata": {},
     "output_type": "execute_result"
    }
   ],
   "source": [
    "# Calculating the Z-score for each data point\n",
    "z_scores = np.abs(stats.zscore(s_df))\n",
    "\n",
    "# Finding data points with a Z-score greater than 3\n",
    "outliers = np.where(z_scores > 3)\n",
    "\n",
    "# Printing the indices of the outliers\n",
    "outliers"
   ]
  },
  {
   "cell_type": "code",
   "execution_count": 38,
   "id": "08c6625e",
   "metadata": {
    "execution": {
     "iopub.execute_input": "2023-07-28T10:04:41.122095Z",
     "iopub.status.busy": "2023-07-28T10:04:41.121265Z",
     "iopub.status.idle": "2023-07-28T10:04:41.144850Z",
     "shell.execute_reply": "2023-07-28T10:04:41.143982Z"
    },
    "papermill": {
     "duration": 0.045273,
     "end_time": "2023-07-28T10:04:41.146677",
     "exception": false,
     "start_time": "2023-07-28T10:04:41.101404",
     "status": "completed"
    },
    "tags": []
   },
   "outputs": [
    {
     "data": {
      "text/html": [
       "<div>\n",
       "<style scoped>\n",
       "    .dataframe tbody tr th:only-of-type {\n",
       "        vertical-align: middle;\n",
       "    }\n",
       "\n",
       "    .dataframe tbody tr th {\n",
       "        vertical-align: top;\n",
       "    }\n",
       "\n",
       "    .dataframe thead th {\n",
       "        text-align: right;\n",
       "    }\n",
       "</style>\n",
       "<table border=\"1\" class=\"dataframe\">\n",
       "  <thead>\n",
       "    <tr style=\"text-align: right;\">\n",
       "      <th></th>\n",
       "      <th>Marital status</th>\n",
       "      <th>Application mode</th>\n",
       "      <th>Application order</th>\n",
       "      <th>Course</th>\n",
       "      <th>Daytime/evening attendance</th>\n",
       "      <th>Previous qualification</th>\n",
       "      <th>Nacionality</th>\n",
       "      <th>Mother's qualification</th>\n",
       "      <th>Father's qualification</th>\n",
       "      <th>Mother's occupation</th>\n",
       "      <th>...</th>\n",
       "      <th>Curricular units 2nd sem (credited)</th>\n",
       "      <th>Curricular units 2nd sem (enrolled)</th>\n",
       "      <th>Curricular units 2nd sem (evaluations)</th>\n",
       "      <th>Curricular units 2nd sem (approved)</th>\n",
       "      <th>Curricular units 2nd sem (grade)</th>\n",
       "      <th>Curricular units 2nd sem (without evaluations)</th>\n",
       "      <th>Unemployment rate</th>\n",
       "      <th>Inflation rate</th>\n",
       "      <th>GDP</th>\n",
       "      <th>Target</th>\n",
       "    </tr>\n",
       "  </thead>\n",
       "  <tbody>\n",
       "    <tr>\n",
       "      <th>0</th>\n",
       "      <td>1</td>\n",
       "      <td>8</td>\n",
       "      <td>5</td>\n",
       "      <td>2</td>\n",
       "      <td>1</td>\n",
       "      <td>1</td>\n",
       "      <td>1</td>\n",
       "      <td>13</td>\n",
       "      <td>10</td>\n",
       "      <td>6</td>\n",
       "      <td>...</td>\n",
       "      <td>0</td>\n",
       "      <td>0</td>\n",
       "      <td>0</td>\n",
       "      <td>0</td>\n",
       "      <td>0.00</td>\n",
       "      <td>0</td>\n",
       "      <td>10.8</td>\n",
       "      <td>1.4</td>\n",
       "      <td>1.74</td>\n",
       "      <td>0</td>\n",
       "    </tr>\n",
       "    <tr>\n",
       "      <th>1</th>\n",
       "      <td>1</td>\n",
       "      <td>6</td>\n",
       "      <td>1</td>\n",
       "      <td>11</td>\n",
       "      <td>1</td>\n",
       "      <td>1</td>\n",
       "      <td>1</td>\n",
       "      <td>1</td>\n",
       "      <td>3</td>\n",
       "      <td>4</td>\n",
       "      <td>...</td>\n",
       "      <td>0</td>\n",
       "      <td>6</td>\n",
       "      <td>6</td>\n",
       "      <td>6</td>\n",
       "      <td>13.67</td>\n",
       "      <td>0</td>\n",
       "      <td>13.9</td>\n",
       "      <td>-0.3</td>\n",
       "      <td>0.79</td>\n",
       "      <td>2</td>\n",
       "    </tr>\n",
       "    <tr>\n",
       "      <th>2</th>\n",
       "      <td>1</td>\n",
       "      <td>1</td>\n",
       "      <td>5</td>\n",
       "      <td>5</td>\n",
       "      <td>1</td>\n",
       "      <td>1</td>\n",
       "      <td>1</td>\n",
       "      <td>22</td>\n",
       "      <td>27</td>\n",
       "      <td>10</td>\n",
       "      <td>...</td>\n",
       "      <td>0</td>\n",
       "      <td>6</td>\n",
       "      <td>0</td>\n",
       "      <td>0</td>\n",
       "      <td>0.00</td>\n",
       "      <td>0</td>\n",
       "      <td>10.8</td>\n",
       "      <td>1.4</td>\n",
       "      <td>1.74</td>\n",
       "      <td>0</td>\n",
       "    </tr>\n",
       "    <tr>\n",
       "      <th>3</th>\n",
       "      <td>1</td>\n",
       "      <td>8</td>\n",
       "      <td>2</td>\n",
       "      <td>15</td>\n",
       "      <td>1</td>\n",
       "      <td>1</td>\n",
       "      <td>1</td>\n",
       "      <td>23</td>\n",
       "      <td>27</td>\n",
       "      <td>6</td>\n",
       "      <td>...</td>\n",
       "      <td>0</td>\n",
       "      <td>6</td>\n",
       "      <td>10</td>\n",
       "      <td>5</td>\n",
       "      <td>12.40</td>\n",
       "      <td>0</td>\n",
       "      <td>9.4</td>\n",
       "      <td>-0.8</td>\n",
       "      <td>-3.12</td>\n",
       "      <td>2</td>\n",
       "    </tr>\n",
       "    <tr>\n",
       "      <th>4</th>\n",
       "      <td>2</td>\n",
       "      <td>12</td>\n",
       "      <td>1</td>\n",
       "      <td>3</td>\n",
       "      <td>0</td>\n",
       "      <td>1</td>\n",
       "      <td>1</td>\n",
       "      <td>22</td>\n",
       "      <td>28</td>\n",
       "      <td>10</td>\n",
       "      <td>...</td>\n",
       "      <td>0</td>\n",
       "      <td>6</td>\n",
       "      <td>6</td>\n",
       "      <td>6</td>\n",
       "      <td>13.00</td>\n",
       "      <td>0</td>\n",
       "      <td>13.9</td>\n",
       "      <td>-0.3</td>\n",
       "      <td>0.79</td>\n",
       "      <td>2</td>\n",
       "    </tr>\n",
       "    <tr>\n",
       "      <th>...</th>\n",
       "      <td>...</td>\n",
       "      <td>...</td>\n",
       "      <td>...</td>\n",
       "      <td>...</td>\n",
       "      <td>...</td>\n",
       "      <td>...</td>\n",
       "      <td>...</td>\n",
       "      <td>...</td>\n",
       "      <td>...</td>\n",
       "      <td>...</td>\n",
       "      <td>...</td>\n",
       "      <td>...</td>\n",
       "      <td>...</td>\n",
       "      <td>...</td>\n",
       "      <td>...</td>\n",
       "      <td>...</td>\n",
       "      <td>...</td>\n",
       "      <td>...</td>\n",
       "      <td>...</td>\n",
       "      <td>...</td>\n",
       "      <td>...</td>\n",
       "    </tr>\n",
       "    <tr>\n",
       "      <th>3532</th>\n",
       "      <td>1</td>\n",
       "      <td>1</td>\n",
       "      <td>1</td>\n",
       "      <td>8</td>\n",
       "      <td>1</td>\n",
       "      <td>1</td>\n",
       "      <td>1</td>\n",
       "      <td>3</td>\n",
       "      <td>28</td>\n",
       "      <td>4</td>\n",
       "      <td>...</td>\n",
       "      <td>0</td>\n",
       "      <td>5</td>\n",
       "      <td>8</td>\n",
       "      <td>5</td>\n",
       "      <td>11.60</td>\n",
       "      <td>0</td>\n",
       "      <td>9.4</td>\n",
       "      <td>-0.8</td>\n",
       "      <td>-3.12</td>\n",
       "      <td>2</td>\n",
       "    </tr>\n",
       "    <tr>\n",
       "      <th>3533</th>\n",
       "      <td>1</td>\n",
       "      <td>1</td>\n",
       "      <td>1</td>\n",
       "      <td>5</td>\n",
       "      <td>1</td>\n",
       "      <td>1</td>\n",
       "      <td>1</td>\n",
       "      <td>1</td>\n",
       "      <td>1</td>\n",
       "      <td>10</td>\n",
       "      <td>...</td>\n",
       "      <td>0</td>\n",
       "      <td>6</td>\n",
       "      <td>6</td>\n",
       "      <td>6</td>\n",
       "      <td>13.50</td>\n",
       "      <td>0</td>\n",
       "      <td>16.2</td>\n",
       "      <td>0.3</td>\n",
       "      <td>-0.92</td>\n",
       "      <td>2</td>\n",
       "    </tr>\n",
       "    <tr>\n",
       "      <th>3534</th>\n",
       "      <td>1</td>\n",
       "      <td>15</td>\n",
       "      <td>1</td>\n",
       "      <td>5</td>\n",
       "      <td>1</td>\n",
       "      <td>14</td>\n",
       "      <td>1</td>\n",
       "      <td>3</td>\n",
       "      <td>28</td>\n",
       "      <td>4</td>\n",
       "      <td>...</td>\n",
       "      <td>5</td>\n",
       "      <td>9</td>\n",
       "      <td>10</td>\n",
       "      <td>7</td>\n",
       "      <td>13.14</td>\n",
       "      <td>1</td>\n",
       "      <td>16.2</td>\n",
       "      <td>0.3</td>\n",
       "      <td>-0.92</td>\n",
       "      <td>2</td>\n",
       "    </tr>\n",
       "    <tr>\n",
       "      <th>3535</th>\n",
       "      <td>1</td>\n",
       "      <td>1</td>\n",
       "      <td>1</td>\n",
       "      <td>12</td>\n",
       "      <td>1</td>\n",
       "      <td>1</td>\n",
       "      <td>1</td>\n",
       "      <td>22</td>\n",
       "      <td>27</td>\n",
       "      <td>10</td>\n",
       "      <td>...</td>\n",
       "      <td>0</td>\n",
       "      <td>8</td>\n",
       "      <td>9</td>\n",
       "      <td>1</td>\n",
       "      <td>13.50</td>\n",
       "      <td>0</td>\n",
       "      <td>13.9</td>\n",
       "      <td>-0.3</td>\n",
       "      <td>0.79</td>\n",
       "      <td>0</td>\n",
       "    </tr>\n",
       "    <tr>\n",
       "      <th>3536</th>\n",
       "      <td>1</td>\n",
       "      <td>1</td>\n",
       "      <td>1</td>\n",
       "      <td>9</td>\n",
       "      <td>1</td>\n",
       "      <td>1</td>\n",
       "      <td>1</td>\n",
       "      <td>22</td>\n",
       "      <td>27</td>\n",
       "      <td>8</td>\n",
       "      <td>...</td>\n",
       "      <td>0</td>\n",
       "      <td>5</td>\n",
       "      <td>6</td>\n",
       "      <td>5</td>\n",
       "      <td>12.00</td>\n",
       "      <td>0</td>\n",
       "      <td>9.4</td>\n",
       "      <td>-0.8</td>\n",
       "      <td>-3.12</td>\n",
       "      <td>2</td>\n",
       "    </tr>\n",
       "  </tbody>\n",
       "</table>\n",
       "<p>3537 rows × 35 columns</p>\n",
       "</div>"
      ],
      "text/plain": [
       "      Marital status  Application mode  Application order  Course  \\\n",
       "0                  1                 8                  5       2   \n",
       "1                  1                 6                  1      11   \n",
       "2                  1                 1                  5       5   \n",
       "3                  1                 8                  2      15   \n",
       "4                  2                12                  1       3   \n",
       "...              ...               ...                ...     ...   \n",
       "3532               1                 1                  1       8   \n",
       "3533               1                 1                  1       5   \n",
       "3534               1                15                  1       5   \n",
       "3535               1                 1                  1      12   \n",
       "3536               1                 1                  1       9   \n",
       "\n",
       "      Daytime/evening attendance  Previous qualification  Nacionality  \\\n",
       "0                              1                       1            1   \n",
       "1                              1                       1            1   \n",
       "2                              1                       1            1   \n",
       "3                              1                       1            1   \n",
       "4                              0                       1            1   \n",
       "...                          ...                     ...          ...   \n",
       "3532                           1                       1            1   \n",
       "3533                           1                       1            1   \n",
       "3534                           1                      14            1   \n",
       "3535                           1                       1            1   \n",
       "3536                           1                       1            1   \n",
       "\n",
       "      Mother's qualification  Father's qualification  Mother's occupation  \\\n",
       "0                         13                      10                    6   \n",
       "1                          1                       3                    4   \n",
       "2                         22                      27                   10   \n",
       "3                         23                      27                    6   \n",
       "4                         22                      28                   10   \n",
       "...                      ...                     ...                  ...   \n",
       "3532                       3                      28                    4   \n",
       "3533                       1                       1                   10   \n",
       "3534                       3                      28                    4   \n",
       "3535                      22                      27                   10   \n",
       "3536                      22                      27                    8   \n",
       "\n",
       "      ...  Curricular units 2nd sem (credited)  \\\n",
       "0     ...                                    0   \n",
       "1     ...                                    0   \n",
       "2     ...                                    0   \n",
       "3     ...                                    0   \n",
       "4     ...                                    0   \n",
       "...   ...                                  ...   \n",
       "3532  ...                                    0   \n",
       "3533  ...                                    0   \n",
       "3534  ...                                    5   \n",
       "3535  ...                                    0   \n",
       "3536  ...                                    0   \n",
       "\n",
       "      Curricular units 2nd sem (enrolled)  \\\n",
       "0                                       0   \n",
       "1                                       6   \n",
       "2                                       6   \n",
       "3                                       6   \n",
       "4                                       6   \n",
       "...                                   ...   \n",
       "3532                                    5   \n",
       "3533                                    6   \n",
       "3534                                    9   \n",
       "3535                                    8   \n",
       "3536                                    5   \n",
       "\n",
       "      Curricular units 2nd sem (evaluations)  \\\n",
       "0                                          0   \n",
       "1                                          6   \n",
       "2                                          0   \n",
       "3                                         10   \n",
       "4                                          6   \n",
       "...                                      ...   \n",
       "3532                                       8   \n",
       "3533                                       6   \n",
       "3534                                      10   \n",
       "3535                                       9   \n",
       "3536                                       6   \n",
       "\n",
       "      Curricular units 2nd sem (approved)  Curricular units 2nd sem (grade)  \\\n",
       "0                                       0                              0.00   \n",
       "1                                       6                             13.67   \n",
       "2                                       0                              0.00   \n",
       "3                                       5                             12.40   \n",
       "4                                       6                             13.00   \n",
       "...                                   ...                               ...   \n",
       "3532                                    5                             11.60   \n",
       "3533                                    6                             13.50   \n",
       "3534                                    7                             13.14   \n",
       "3535                                    1                             13.50   \n",
       "3536                                    5                             12.00   \n",
       "\n",
       "      Curricular units 2nd sem (without evaluations)  Unemployment rate  \\\n",
       "0                                                  0               10.8   \n",
       "1                                                  0               13.9   \n",
       "2                                                  0               10.8   \n",
       "3                                                  0                9.4   \n",
       "4                                                  0               13.9   \n",
       "...                                              ...                ...   \n",
       "3532                                               0                9.4   \n",
       "3533                                               0               16.2   \n",
       "3534                                               1               16.2   \n",
       "3535                                               0               13.9   \n",
       "3536                                               0                9.4   \n",
       "\n",
       "      Inflation rate   GDP  Target  \n",
       "0                1.4  1.74       0  \n",
       "1               -0.3  0.79       2  \n",
       "2                1.4  1.74       0  \n",
       "3               -0.8 -3.12       2  \n",
       "4               -0.3  0.79       2  \n",
       "...              ...   ...     ...  \n",
       "3532            -0.8 -3.12       2  \n",
       "3533             0.3 -0.92       2  \n",
       "3534             0.3 -0.92       2  \n",
       "3535            -0.3  0.79       0  \n",
       "3536            -0.8 -3.12       2  \n",
       "\n",
       "[3537 rows x 35 columns]"
      ]
     },
     "execution_count": 38,
     "metadata": {},
     "output_type": "execute_result"
    }
   ],
   "source": [
    "# Dropping the corresponding rows from the dataframe\n",
    "out_df = s_df.drop(s_df.index[outliers[0]])\n",
    "\n",
    "# Resetting the index of the dataframe\n",
    "s_df = out_df.reset_index(drop=True)\n",
    "s_df.shape\n",
    "s_df\n"
   ]
  },
  {
   "cell_type": "code",
   "execution_count": 39,
   "id": "d421de44",
   "metadata": {
    "execution": {
     "iopub.execute_input": "2023-07-28T10:04:41.188997Z",
     "iopub.status.busy": "2023-07-28T10:04:41.188646Z",
     "iopub.status.idle": "2023-07-28T10:04:41.200154Z",
     "shell.execute_reply": "2023-07-28T10:04:41.198914Z"
    },
    "papermill": {
     "duration": 0.035368,
     "end_time": "2023-07-28T10:04:41.201986",
     "exception": false,
     "start_time": "2023-07-28T10:04:41.166618",
     "status": "completed"
    },
    "tags": []
   },
   "outputs": [
    {
     "data": {
      "text/plain": [
       "2    1791\n",
       "0    1116\n",
       "Name: Target, dtype: int64"
      ]
     },
     "execution_count": 39,
     "metadata": {},
     "output_type": "execute_result"
    }
   ],
   "source": [
    "# Changing the Target to numerical Value 0 or 1. \n",
    "#We are predicting if a Student is gonna Dropout or Graduate, ignoring the ones who are Enrolled.\n",
    "s_df.drop(s_df[s_df[\"Target\"]==1].index, inplace=True)\n",
    "s_df.loc[:,'Target'].value_counts()"
   ]
  },
  {
   "cell_type": "code",
   "execution_count": 40,
   "id": "813853c5",
   "metadata": {
    "execution": {
     "iopub.execute_input": "2023-07-28T10:04:41.241727Z",
     "iopub.status.busy": "2023-07-28T10:04:41.241334Z",
     "iopub.status.idle": "2023-07-28T10:04:41.250135Z",
     "shell.execute_reply": "2023-07-28T10:04:41.249493Z"
    },
    "papermill": {
     "duration": 0.030675,
     "end_time": "2023-07-28T10:04:41.251812",
     "exception": false,
     "start_time": "2023-07-28T10:04:41.221137",
     "status": "completed"
    },
    "tags": []
   },
   "outputs": [
    {
     "data": {
      "text/plain": [
       "0    1791\n",
       "1    1116\n",
       "Name: Target, dtype: int64"
      ]
     },
     "execution_count": 40,
     "metadata": {},
     "output_type": "execute_result"
    }
   ],
   "source": [
    "\n",
    "# mapping integer codes to new values\n",
    "mapping = {0: 1, 2: 0}\n",
    "s_df[\"Target\"] = s_df[\"Target\"].replace(mapping)\n",
    "\n",
    "s_df.loc[:,'Target'].value_counts()"
   ]
  },
  {
   "cell_type": "code",
   "execution_count": 41,
   "id": "ce62b182",
   "metadata": {
    "execution": {
     "iopub.execute_input": "2023-07-28T10:04:41.293956Z",
     "iopub.status.busy": "2023-07-28T10:04:41.293066Z",
     "iopub.status.idle": "2023-07-28T10:04:41.299666Z",
     "shell.execute_reply": "2023-07-28T10:04:41.298780Z"
    },
    "papermill": {
     "duration": 0.029558,
     "end_time": "2023-07-28T10:04:41.301452",
     "exception": false,
     "start_time": "2023-07-28T10:04:41.271894",
     "status": "completed"
    },
    "tags": []
   },
   "outputs": [],
   "source": [
    "\n",
    "x = s_df.drop(columns=['Target'], axis=1)\n",
    "z = s_df[\"Target\"]\n",
    "     "
   ]
  },
  {
   "cell_type": "markdown",
   "id": "a073b743",
   "metadata": {
    "papermill": {
     "duration": 0.019067,
     "end_time": "2023-07-28T10:04:41.339903",
     "exception": false,
     "start_time": "2023-07-28T10:04:41.320836",
     "status": "completed"
    },
    "tags": []
   },
   "source": [
    "# Standardization"
   ]
  },
  {
   "cell_type": "code",
   "execution_count": 42,
   "id": "3b36497d",
   "metadata": {
    "execution": {
     "iopub.execute_input": "2023-07-28T10:04:41.381422Z",
     "iopub.status.busy": "2023-07-28T10:04:41.380784Z",
     "iopub.status.idle": "2023-07-28T10:04:41.389940Z",
     "shell.execute_reply": "2023-07-28T10:04:41.388999Z"
    },
    "papermill": {
     "duration": 0.03271,
     "end_time": "2023-07-28T10:04:41.392159",
     "exception": false,
     "start_time": "2023-07-28T10:04:41.359449",
     "status": "completed"
    },
    "tags": []
   },
   "outputs": [],
   "source": [
    "scaler = StandardScaler()\n",
    "scaled = scaler.fit_transform(x)\n"
   ]
  },
  {
   "cell_type": "markdown",
   "id": "228b993d",
   "metadata": {
    "papermill": {
     "duration": 0.019277,
     "end_time": "2023-07-28T10:04:41.431538",
     "exception": false,
     "start_time": "2023-07-28T10:04:41.412261",
     "status": "completed"
    },
    "tags": []
   },
   "source": [
    "# Split data into training and testing sets"
   ]
  },
  {
   "cell_type": "code",
   "execution_count": 43,
   "id": "db70c403",
   "metadata": {
    "execution": {
     "iopub.execute_input": "2023-07-28T10:04:41.472888Z",
     "iopub.status.busy": "2023-07-28T10:04:41.472106Z",
     "iopub.status.idle": "2023-07-28T10:04:41.477728Z",
     "shell.execute_reply": "2023-07-28T10:04:41.476932Z"
    },
    "papermill": {
     "duration": 0.028706,
     "end_time": "2023-07-28T10:04:41.479655",
     "exception": false,
     "start_time": "2023-07-28T10:04:41.450949",
     "status": "completed"
    },
    "tags": []
   },
   "outputs": [],
   "source": [
    "X_train, X_test, y_train, y_test = train_test_split(scaled, z, test_size=0.2, random_state=10)\n"
   ]
  },
  {
   "cell_type": "markdown",
   "id": "67223269",
   "metadata": {
    "papermill": {
     "duration": 0.01927,
     "end_time": "2023-07-28T10:04:41.518260",
     "exception": false,
     "start_time": "2023-07-28T10:04:41.498990",
     "status": "completed"
    },
    "tags": []
   },
   "source": [
    "# By Using Logistic regression"
   ]
  },
  {
   "cell_type": "code",
   "execution_count": 44,
   "id": "cbb9142a",
   "metadata": {
    "execution": {
     "iopub.execute_input": "2023-07-28T10:04:41.558823Z",
     "iopub.status.busy": "2023-07-28T10:04:41.558051Z",
     "iopub.status.idle": "2023-07-28T10:04:41.562529Z",
     "shell.execute_reply": "2023-07-28T10:04:41.561763Z"
    },
    "papermill": {
     "duration": 0.026221,
     "end_time": "2023-07-28T10:04:41.564148",
     "exception": false,
     "start_time": "2023-07-28T10:04:41.537927",
     "status": "completed"
    },
    "tags": []
   },
   "outputs": [],
   "source": [
    "#creating logreg object\n",
    "logreg = LogisticRegression()"
   ]
  },
  {
   "cell_type": "code",
   "execution_count": 45,
   "id": "df60750c",
   "metadata": {
    "execution": {
     "iopub.execute_input": "2023-07-28T10:04:41.604871Z",
     "iopub.status.busy": "2023-07-28T10:04:41.603908Z",
     "iopub.status.idle": "2023-07-28T10:04:41.641546Z",
     "shell.execute_reply": "2023-07-28T10:04:41.640801Z"
    },
    "papermill": {
     "duration": 0.06005,
     "end_time": "2023-07-28T10:04:41.643470",
     "exception": false,
     "start_time": "2023-07-28T10:04:41.583420",
     "status": "completed"
    },
    "tags": []
   },
   "outputs": [
    {
     "data": {
      "text/html": [
       "<style>#sk-container-id-1 {color: black;background-color: white;}#sk-container-id-1 pre{padding: 0;}#sk-container-id-1 div.sk-toggleable {background-color: white;}#sk-container-id-1 label.sk-toggleable__label {cursor: pointer;display: block;width: 100%;margin-bottom: 0;padding: 0.3em;box-sizing: border-box;text-align: center;}#sk-container-id-1 label.sk-toggleable__label-arrow:before {content: \"▸\";float: left;margin-right: 0.25em;color: #696969;}#sk-container-id-1 label.sk-toggleable__label-arrow:hover:before {color: black;}#sk-container-id-1 div.sk-estimator:hover label.sk-toggleable__label-arrow:before {color: black;}#sk-container-id-1 div.sk-toggleable__content {max-height: 0;max-width: 0;overflow: hidden;text-align: left;background-color: #f0f8ff;}#sk-container-id-1 div.sk-toggleable__content pre {margin: 0.2em;color: black;border-radius: 0.25em;background-color: #f0f8ff;}#sk-container-id-1 input.sk-toggleable__control:checked~div.sk-toggleable__content {max-height: 200px;max-width: 100%;overflow: auto;}#sk-container-id-1 input.sk-toggleable__control:checked~label.sk-toggleable__label-arrow:before {content: \"▾\";}#sk-container-id-1 div.sk-estimator input.sk-toggleable__control:checked~label.sk-toggleable__label {background-color: #d4ebff;}#sk-container-id-1 div.sk-label input.sk-toggleable__control:checked~label.sk-toggleable__label {background-color: #d4ebff;}#sk-container-id-1 input.sk-hidden--visually {border: 0;clip: rect(1px 1px 1px 1px);clip: rect(1px, 1px, 1px, 1px);height: 1px;margin: -1px;overflow: hidden;padding: 0;position: absolute;width: 1px;}#sk-container-id-1 div.sk-estimator {font-family: monospace;background-color: #f0f8ff;border: 1px dotted black;border-radius: 0.25em;box-sizing: border-box;margin-bottom: 0.5em;}#sk-container-id-1 div.sk-estimator:hover {background-color: #d4ebff;}#sk-container-id-1 div.sk-parallel-item::after {content: \"\";width: 100%;border-bottom: 1px solid gray;flex-grow: 1;}#sk-container-id-1 div.sk-label:hover label.sk-toggleable__label {background-color: #d4ebff;}#sk-container-id-1 div.sk-serial::before {content: \"\";position: absolute;border-left: 1px solid gray;box-sizing: border-box;top: 0;bottom: 0;left: 50%;z-index: 0;}#sk-container-id-1 div.sk-serial {display: flex;flex-direction: column;align-items: center;background-color: white;padding-right: 0.2em;padding-left: 0.2em;position: relative;}#sk-container-id-1 div.sk-item {position: relative;z-index: 1;}#sk-container-id-1 div.sk-parallel {display: flex;align-items: stretch;justify-content: center;background-color: white;position: relative;}#sk-container-id-1 div.sk-item::before, #sk-container-id-1 div.sk-parallel-item::before {content: \"\";position: absolute;border-left: 1px solid gray;box-sizing: border-box;top: 0;bottom: 0;left: 50%;z-index: -1;}#sk-container-id-1 div.sk-parallel-item {display: flex;flex-direction: column;z-index: 1;position: relative;background-color: white;}#sk-container-id-1 div.sk-parallel-item:first-child::after {align-self: flex-end;width: 50%;}#sk-container-id-1 div.sk-parallel-item:last-child::after {align-self: flex-start;width: 50%;}#sk-container-id-1 div.sk-parallel-item:only-child::after {width: 0;}#sk-container-id-1 div.sk-dashed-wrapped {border: 1px dashed gray;margin: 0 0.4em 0.5em 0.4em;box-sizing: border-box;padding-bottom: 0.4em;background-color: white;}#sk-container-id-1 div.sk-label label {font-family: monospace;font-weight: bold;display: inline-block;line-height: 1.2em;}#sk-container-id-1 div.sk-label-container {text-align: center;}#sk-container-id-1 div.sk-container {/* jupyter's `normalize.less` sets `[hidden] { display: none; }` but bootstrap.min.css set `[hidden] { display: none !important; }` so we also need the `!important` here to be able to override the default hidden behavior on the sphinx rendered scikit-learn.org. See: https://github.com/scikit-learn/scikit-learn/issues/21755 */display: inline-block !important;position: relative;}#sk-container-id-1 div.sk-text-repr-fallback {display: none;}</style><div id=\"sk-container-id-1\" class=\"sk-top-container\"><div class=\"sk-text-repr-fallback\"><pre>LogisticRegression()</pre><b>In a Jupyter environment, please rerun this cell to show the HTML representation or trust the notebook. <br />On GitHub, the HTML representation is unable to render, please try loading this page with nbviewer.org.</b></div><div class=\"sk-container\" hidden><div class=\"sk-item\"><div class=\"sk-estimator sk-toggleable\"><input class=\"sk-toggleable__control sk-hidden--visually\" id=\"sk-estimator-id-1\" type=\"checkbox\" checked><label for=\"sk-estimator-id-1\" class=\"sk-toggleable__label sk-toggleable__label-arrow\">LogisticRegression</label><div class=\"sk-toggleable__content\"><pre>LogisticRegression()</pre></div></div></div></div></div>"
      ],
      "text/plain": [
       "LogisticRegression()"
      ]
     },
     "execution_count": 45,
     "metadata": {},
     "output_type": "execute_result"
    }
   ],
   "source": [
    "# Fit logistic regression model on training data\n",
    "logreg.fit(X_train, y_train)"
   ]
  },
  {
   "cell_type": "code",
   "execution_count": 46,
   "id": "4f551651",
   "metadata": {
    "execution": {
     "iopub.execute_input": "2023-07-28T10:04:41.704826Z",
     "iopub.status.busy": "2023-07-28T10:04:41.704460Z",
     "iopub.status.idle": "2023-07-28T10:04:41.713818Z",
     "shell.execute_reply": "2023-07-28T10:04:41.713099Z"
    },
    "papermill": {
     "duration": 0.042553,
     "end_time": "2023-07-28T10:04:41.715984",
     "exception": false,
     "start_time": "2023-07-28T10:04:41.673431",
     "status": "completed"
    },
    "tags": []
   },
   "outputs": [
    {
     "data": {
      "text/plain": [
       "0.9261168384879725"
      ]
     },
     "execution_count": 46,
     "metadata": {},
     "output_type": "execute_result"
    }
   ],
   "source": [
    "# Evaluate performance on testing data\n",
    "logreg.score(X_test, y_test)"
   ]
  },
  {
   "cell_type": "markdown",
   "id": "a4b02190",
   "metadata": {
    "papermill": {
     "duration": 0.026819,
     "end_time": "2023-07-28T10:04:41.772529",
     "exception": false,
     "start_time": "2023-07-28T10:04:41.745710",
     "status": "completed"
    },
    "tags": []
   },
   "source": [
    "# calculating Accuracy"
   ]
  },
  {
   "cell_type": "code",
   "execution_count": 47,
   "id": "bce2a638",
   "metadata": {
    "execution": {
     "iopub.execute_input": "2023-07-28T10:04:41.826878Z",
     "iopub.status.busy": "2023-07-28T10:04:41.826595Z",
     "iopub.status.idle": "2023-07-28T10:04:41.845335Z",
     "shell.execute_reply": "2023-07-28T10:04:41.844625Z"
    },
    "papermill": {
     "duration": 0.048351,
     "end_time": "2023-07-28T10:04:41.847389",
     "exception": false,
     "start_time": "2023-07-28T10:04:41.799038",
     "status": "completed"
    },
    "tags": []
   },
   "outputs": [
    {
     "name": "stdout",
     "output_type": "stream",
     "text": [
      "Training Accuracy : 0.9187096774193548\n",
      "Testing Accuracy : 0.9261168384879725\n",
      "\n",
      "CLASSIFICATION REPORT\n",
      "\n",
      "              precision    recall  f1-score   support\n",
      "\n",
      "           0       0.91      0.98      0.94       353\n",
      "           1       0.96      0.84      0.90       229\n",
      "\n",
      "    accuracy                           0.93       582\n",
      "   macro avg       0.94      0.91      0.92       582\n",
      "weighted avg       0.93      0.93      0.93       582\n",
      "\n"
     ]
    }
   ],
   "source": [
    "# Calculating the accuracy of the model\n",
    "print('Training Accuracy :',logreg.score(X_train,y_train))\n",
    "print('Testing Accuracy :',logreg.score(X_test,y_test))\n",
    "\n",
    "# Make predictions on the test data\n",
    "y_pred = logreg.predict(X_test)\n",
    "\n",
    "print('\\nCLASSIFICATION REPORT\\n')\n",
    "print(classification_report(y_test, y_pred))\n",
    "\n",
    "# calculating confusion matrix\n",
    "cm = confusion_matrix(y_test, y_pred)\n"
   ]
  }
 ],
 "metadata": {
  "kernelspec": {
   "display_name": "Python 3",
   "language": "python",
   "name": "python3"
  },
  "language_info": {
   "codemirror_mode": {
    "name": "ipython",
    "version": 3
   },
   "file_extension": ".py",
   "mimetype": "text/x-python",
   "name": "python",
   "nbconvert_exporter": "python",
   "pygments_lexer": "ipython3",
   "version": "3.10.12"
  },
  "papermill": {
   "default_parameters": {},
   "duration": 24.398247,
   "end_time": "2023-07-28T10:04:42.996032",
   "environment_variables": {},
   "exception": null,
   "input_path": "__notebook__.ipynb",
   "output_path": "__notebook__.ipynb",
   "parameters": {},
   "start_time": "2023-07-28T10:04:18.597785",
   "version": "2.4.0"
  }
 },
 "nbformat": 4,
 "nbformat_minor": 5
}
